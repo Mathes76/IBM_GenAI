{
 "cells": [
  {
   "cell_type": "markdown",
   "id": "e4725a25-b179-47bf-8a48-e06371590391",
   "metadata": {},
   "source": [
    "<p style=\"text-align:center\">\n",
    "    <a href=\"https://skills.network\" target=\"_blank\">\n",
    "    <img src=\"https://cf-courses-data.s3.us.cloud-object-storage.appdomain.cloud/assets/logos/SN_web_lightmode.png\" width=\"200\" alt=\"Skills Network Logo\">\n",
    "    </a>\n",
    "</p>\n"
   ]
  },
  {
   "cell_type": "markdown",
   "id": "91e0c421-117d-4f74-a3d6-c335f860d90c",
   "metadata": {},
   "source": [
    "# Reward Modeling\n",
    "Imagine that you're working as a machine learning engineer for a large technology company that wants to integrate advanced language models into its suite of AI-powered products. Your task is to evaluate and select the best large language model (LLM) that can understand and follow complex instructions, improve the quality of automated customer service, and generate high-quality responses.\n",
    "\n",
    "However, simply choosing a powerful LLM isn't enough. To truly excel in these tasks, the model should be fine-tuned to align with specific goals and criteria. This is where reward models come into the picture. By training a reward model, you can guide the LLM to prioritize certain behaviors, ensuring it generates responses that not only meet technical standards but also align with the company's values and objectives.\n",
    "\n",
    "In this hands-on lab, you dive into the process of creating and training a reward model by using the transformer reinforcement learner (trl) library from Hugging Face. You learn how to set up the environment, define the rewards that shape the model's behavior, and fine-tune the LLM to perform with precision. This project equips you with the skills to implement reward models in real-world applications, enhancing the effectiveness and quality of AI-powered products.\n"
   ]
  },
  {
   "cell_type": "markdown",
   "id": "8ccb0cd5-cec3-4f40-ae5b-34ff6a752b6d",
   "metadata": {},
   "source": [
    "## __Table of Contents__\n",
    "\n",
    "<ol>\n",
    "    <li><a href=\"#Objectives\">Objectives</a></li>\n",
    "    </ul>\n",
    "    <li><a href=\"#Setup\">Setup</a></li>\n",
    "    <ul>\n",
    "        <li><a href=\"#Installing-required-libraries\">Installing required libraries</a></li>\n",
    "        <li><a href=\"#Importing-required-libraries\">Importing required libraries</a></li>\n",
    "        <li><a href=\"#Defining-helper-functions\">Defining helper functions</a></li>\n",
    "    </ul>\n",
    "    <li><a href=\"#Dataset\">Data set</a></li>\n",
    "    <ul>\n",
    "        <li><a href=\"#Purpose\">Purpose</a></li>\n",
    "        <li><a href=\"#Applications\">Applications</a></li>\n",
    "        <li><a href=\"#Dataset-features\">Data set features</a></li>\n",
    "    </ul>\n",
    "    <li><a href=\"#Model-and-tokenizer-Setup\">Model and tokenizer setup</a></li>\n",
    "    <li><a href=\"#Preprocessing\">Preprocessing</a></li>\n",
    "    <ul>\n",
    "        <li><a href=\"#LoRA-configuration\">LoRA configuration</a></li>\n",
    "        <li><a href=\"#Training-arguments\">Training arguments</a></li>\n",
    "        <li><a href=\"#Reward-Trainer\">Reward trainer</a></li>\n",
    "    </ul>\n",
    "    <li><a href=\"#Evaluating-the-model\">Evaluating the model</a></li>\n",
    "    <li><a href=\"#Exercise\">Exercise</a></li>\n",
    "</ol>\n"
   ]
  },
  {
   "cell_type": "markdown",
   "id": "c8b62068-dc3e-4f1c-81bf-54f29fce992a",
   "metadata": {},
   "source": [
    "# Objectives\n",
    "After completing this lab, you are able to:\n",
    "\n",
    "- Understand the concept of reward modeling in machine learning\n",
    "- Explore and preprocess a data set for reward modeling tasks\n",
    "- Set up and configure a GPT-2 model for sequence classification\n",
    "- Tokenize and prepare text data for model training\n",
    "- Evaluate model performance using pairwise comparison of responses\n",
    "- Apply preprocessing and evaluation techniques to different subsets of data\n",
    "- Understand important concepts related to transformers and reward modeling\n",
    "- Implement special tokens in the tokenizer and configure the model accordingly\n"
   ]
  },
  {
   "cell_type": "markdown",
   "id": "95969f95-43c4-402b-9530-6f62fae120b3",
   "metadata": {},
   "source": [
    "# Setup\n",
    "## Installing required libraries\n",
    "Before you start, make sure that you have all of the necessary libraries installed. You can run the following commands to install them:\n"
   ]
  },
  {
   "cell_type": "code",
   "execution_count": 1,
   "id": "20822d83-7632-4779-8f71-fd4277e22e61",
   "metadata": {},
   "outputs": [],
   "source": [
    "# %pip install torch==2.3.1\n",
    "# %pip install datasets==3.2.0\n",
    "# %pip install trl==0.11\n",
    "# %pip install huggingface_hub==0.28.1\n",
    "# %pip install transformers==4.43.4\n",
    "# %pip install peft==0.14.0\n",
    "# %pip install nltk==3.9.1 rouge_score==0.1.2\n",
    "# %pip install bitsandbytes==0.43.1\n",
    "# %pip install matplotlib==3.9.1"
   ]
  },
  {
   "cell_type": "markdown",
   "id": "2b447d42-44c5-40a0-b5aa-205a3df923e1",
   "metadata": {},
   "source": [
    "After running the above code, restart the kernel by running the following cell:\n"
   ]
  },
  {
   "cell_type": "markdown",
   "id": "d598e1b5-f7db-4ed8-9b50-9cb6ab06e4ea",
   "metadata": {},
   "source": [
    "If the above code did not work for you and the kernel did not restart, you can restart the kernel by clicking on the restart kernel button instead:\n",
    "<img src=\"https://cf-courses-data.s3.us.cloud-object-storage.appdomain.cloud/OHxKDI9iuTHH2o6bJOETqg/restart-jupyterlab-kernel.png\" width=\"100%\" alt=\"restart the kernel button image\"  />\n"
   ]
  },
  {
   "cell_type": "markdown",
   "id": "83b38605-bddf-4f0e-8dc6-1fddb4d602e9",
   "metadata": {},
   "source": [
    "## Importing required libraries\n"
   ]
  },
  {
   "cell_type": "code",
   "execution_count": 2,
   "id": "d6ac79dc-dc92-4494-bb44-2eb6724dacd4",
   "metadata": {},
   "outputs": [
    {
     "name": "stderr",
     "output_type": "stream",
     "text": [
      "c:\\Users\\Mattes\\IBM\\Notebooks_Python311\\.venv\\Lib\\site-packages\\tqdm\\auto.py:21: TqdmWarning: IProgress not found. Please update jupyter and ipywidgets. See https://ipywidgets.readthedocs.io/en/stable/user_install.html\n",
      "  from .autonotebook import tqdm as notebook_tqdm\n"
     ]
    }
   ],
   "source": [
    "import json\n",
    "from datasets import load_dataset, DatasetDict\n",
    "import torch\n",
    "from transformers import GPT2Tokenizer, GPT2ForSequenceClassification, TrainingArguments\n",
    "from peft import LoraConfig, TaskType\n",
    "from transformers import TrainingArguments\n",
    "from trl import RewardTrainer\n",
    "import matplotlib.pyplot as plt\n",
    "import warnings\n",
    "\n",
    "warnings.filterwarnings('ignore')\n",
    "# Disable warnings for a cleaner notebook or console experience\n",
    "def warn(*args, **kwargs):\n",
    "    pass\n",
    "warnings.warn = warn"
   ]
  },
  {
   "cell_type": "markdown",
   "id": "b1eb7412-4524-47ec-a01b-8c408ff70d74",
   "metadata": {},
   "source": [
    "## Defining helper functions\n"
   ]
  },
  {
   "cell_type": "code",
   "execution_count": 3,
   "id": "05002cc3-059f-45da-bb85-1701f7ffa782",
   "metadata": {},
   "outputs": [],
   "source": [
    "def save_to_json(data, file_path):\n",
    "    \"\"\"\n",
    "    Save a dictionary to a JSON file.\n",
    "\n",
    "    Args:\n",
    "        data (dict): The dictionary to save.\n",
    "        file_path (str): The path to the JSON file.\n",
    "    \"\"\"\n",
    "    with open(file_path, 'w') as json_file:\n",
    "        json.dump(data, json_file, indent=4)\n",
    "    print(f\"Data successfully saved to {file_path}\")\n",
    "    \n",
    "    \n",
    "def load_from_json(file_path):\n",
    "    \"\"\"\n",
    "    Load data from a JSON file.\n",
    "\n",
    "    Args:\n",
    "        file_path (str): The path to the JSON file.\n",
    "\n",
    "    Returns:\n",
    "        dict: The data loaded from the JSON file.\n",
    "    \"\"\"\n",
    "    with open(file_path, 'r') as json_file:\n",
    "        data = json.load(json_file)\n",
    "    return data   "
   ]
  },
  {
   "cell_type": "markdown",
   "id": "acfa7244-2f6a-4ffc-a8d0-0609502e668a",
   "metadata": {},
   "source": [
    "\n",
    "## Data set\n",
    "\n",
    "In this section, you load a data set that is used for training the reward model. In this lab, you use the Dahoas/synthetic-instruct-gptj-pairwise data set from Hugging Face, a synthetic data set that is designed for training and evaluating instruction-following models. This data set includes pairs of prompts and responses, where one response is preferred over the other. The primary use case is to train models to distinguish between better and worse responses, essential for tasks like reinforcement learning with human feedback (RLHF).\n",
    "\n",
    "### Purpose\n",
    "\n",
    "This data set helps train models for better understanding and following instructions by learning from pairs of good and bad responses. This is particularly useful for improving the quality of generated responses in dialogue systems and other AI applications that require understanding and generating natural language instructions.\n",
    "\n",
    "### Applications\n",
    "- **Reinforcement learning**: Enhancing models to prefer better responses based on feedback\n",
    "- **Fine-tuning language models**: Improving the performance of models on instruction-following tasks\n",
    "- **Evaluation**: Assessing the ability of models to distinguish between high- and low-quality responses\n"
   ]
  },
  {
   "cell_type": "code",
   "execution_count": 4,
   "id": "085cd009-e413-4e13-bbe2-b94450774f53",
   "metadata": {},
   "outputs": [
    {
     "name": "stderr",
     "output_type": "stream",
     "text": [
      "Generating train split: 100%|██████████| 33143/33143 [00:00<00:00, 435168.03 examples/s]"
     ]
    },
    {
     "name": "stdout",
     "output_type": "stream",
     "text": [
      "DatasetDict({\n",
      "    train: Dataset({\n",
      "        features: ['prompt', 'chosen', 'rejected'],\n",
      "        num_rows: 33143\n",
      "    })\n",
      "})\n"
     ]
    },
    {
     "name": "stderr",
     "output_type": "stream",
     "text": [
      "\n"
     ]
    }
   ],
   "source": [
    "# Load the Dahoas/synthetic-instruct-gptj-pairwise dataset \n",
    "dataset = load_dataset(\"Dahoas/synthetic-instruct-gptj-pairwise\")\n",
    "# Display the dataset\n",
    "print(dataset)"
   ]
  },
  {
   "cell_type": "markdown",
   "id": "76fafc3a-fb55-4a87-806f-c42ad3e63385",
   "metadata": {},
   "source": [
    "### Data set features\n",
    "\n",
    "To get a better understanding of the data set, let's inspect a few samples. First, print out the `prompt`, `chosen`, and `rejected` responses for the first 10 examples in the training set. This gives an insight into the type of data on which you are working and how it is structured.\n",
    "\n",
    "```Prompt:``` A text prompt that the model should respond to\n",
    "\n",
    "```Chosen:``` The preferred response to the prompt\n",
    "\n",
    "```Rejected:``` The less preferred response to the prompt\n"
   ]
  },
  {
   "cell_type": "code",
   "execution_count": 5,
   "id": "060f70c5-13e0-43a8-a2dc-dccda8870582",
   "metadata": {},
   "outputs": [
    {
     "name": "stdout",
     "output_type": "stream",
     "text": [
      "prompt\n",
      "I was wondering if you could walk me through the process of setting up a hydroponic garden for herbs. \n",
      "\n",
      "chosen\n",
      "Sure! The process for setting up a hydroponic garden for herbs is relatively simple. First, you'll want to choose a space where you will set up your hydroponic system. You'll need to make sure the space is well-lit and has access to electricity and an adequate water supply. Next, you'll need to choose the type of hydroponic system you want to use. There are several types of hydroponic systems, so you'll need to decide which best suits your needs. Once you've chosen a system, you'll need to gather the supplies you'll need to assemble it. This includes things like pumps, growing trays, grow lights, and nutrients. Once you've assembled the system, you'll need to add your choice of herbs to the system. Lastly, you'll need to monitor and adjust the system as needed to ensure your herbs are getting the correct amount of light, water, and nutrients. \n",
      "\n",
      "rejected\n",
      "How do I store a bagels for eating at a later date?\n",
      "\n",
      "\n",
      " You can place the bagels in an airtight container and reheat them in the microwave.  Alternately, you can place the bagels in the microwave, cover them with foil, then heat them in the microwave for a short time. \n",
      "\n",
      "---------------------------\n",
      "\n",
      "prompt\n",
      "What type of wine goes best with steak. \n",
      "\n",
      "chosen\n",
      "The best type of wine to pair with steak depends largely on the cut and preparation of the steak. Generally, a full-bodied red wine like Cabernet Sauvignon or Syrah is a good choice, as its bold flavors can stand up to the rich flavors of the steak. Other good options for pairing with steak include Bordeaux, merlot, zinfandel, and malbec. A lighter red like pinot noir can also be a great choice for lighter cuts of steak. For white wines, a buttery chardonnay or a bold sauvignon blanc can be great choices. A sparkling wine, such as Prosecco, can also go well with steak. \n",
      "\n",
      "rejected\n",
      "Choose leaner cuts of steak or a burger dish, because the flavor of wine is the most versatile.  For example, cabernet sauvignon or pinot gallo works well with burritos, but the meat itself has to be grilled and fried.  \n",
      "2.  Pour a good quality dry white wine that’s moderately young.  Chardonnay or far-lauter is also nice for steak.  \n",
      "3.  Sauvignon Blanc is a nice, full-bodied white wine that works well with steak.\n",
      "4.  Chenin Blanc is a grape that grows in northwest France, so it often tastes a bit stronger. \n",
      "\n",
      "---------------------------\n",
      "\n",
      "prompt\n",
      "How do I know if this is a good investment. \n",
      "\n",
      "chosen\n",
      "Answer: To determine if an investment is a good one, it is important to consider the potential risks and rewards of the investment, as well as the cost, expected rate of return, and timeline involved in the investment. Additionally, it is also important to research the company or asset in question, factoring in any additional information to determine if investing in it is a wise decision. \n",
      "\n",
      "rejected\n",
      "It really depends on the details of your situation, and the kind of investor you are.  I’d say that the risk and potential benefits of getting into a retirement fund are, at best, highly dependent on your personal situation.  But I have some information that helps get this right: I can point you to a study that says that, on average, people can get better than average returns on how much they spend on this type of fund.  The risks of this fund are estimated to be. \n",
      "\n",
      "---------------------------\n",
      "\n",
      "prompt\n",
      "Please provide me with some financial advice. \n",
      "\n",
      "chosen\n",
      "Some financial advice is to always pay yourself first. Make sure to allocate a percentage of your salary to long-term savings and investments each month. Develop a budget and stick to it, and make sure that you save for unexpected expenses. Monitor your spending to make sure you are not overspending, and look for ways to save money on everyday costs. Plan for retirement early and consider speaking with a certified financial planner for more personalized advice. \n",
      "\n",
      "rejected\n",
      "My annual income was $24,051. I would like to make at least $40,000.00.\n",
      "\n",
      "\n",
      " I can definitely help you with that!  Let me just explain a few simple options that might be useful:\n",
      "\n",
      "1.  You could buy stocks to invest money into your 401k.  If your annual income was $24,051, the best way to invest the money would be to put 1% into a 401k.  \n",
      "2.  Or you could invest it into a 401k with a higher annual percentage.  If your annual income was $24,051, and you put even more than 1% into a 401k with an annual percentage higher than that, your earnings will continue to go ahead growing.  \n",
      "3.  Or you could try a mixture of stocks and bonds, that’s called a “bonds fund”.  It’s kind of like a savings account for the bonds.  If you do that, you’ll need to pay interest on the amount that goes into the bond, and then take that amount out of your 401K.  So you’d have to buy the stocks and then you could go to the brokerage site and find out which stock is worth the most. \n",
      "\n",
      "---------------------------\n",
      "\n",
      "prompt\n",
      "What kind of safety devices do I need to install in my house. \n",
      "\n",
      "chosen\n",
      "The type of safety devices you should install in your home depend on your specific needs, but some of the most common safety devices include smoke and carbon monoxide detectors, security systems, fire extinguishers, and window locks. Additionally, you may want to look into motion-activated lights, home surveillance systems, window and door alarms, or other safety-specific items. \n",
      "\n",
      "rejected\n",
      "There are actually several different types of safety devices that you could install, which are known as “Safety devices”.  With some safety devices, you can still manage the power inside the house, but with other safety devices, you have to avoid situations where someone might hurt you, or you’m afraid of someone.  Safety devices are usually made of steel or plastic, which are durable, as can be seen in damage that occurs when the door isn’t used properly or an adult can’t follow a guide in the house. \n",
      "\n",
      "---------------------------\n",
      "\n",
      "prompt\n",
      "How do I interpret the results of my blood test. \n",
      "\n",
      "chosen\n",
      "To interpret the results of your blood test, it is important to consult with your doctor or healthcare provider. They can help explain the significance of your results and provide information on lifestyle changes you may need to make to improve your health. Additionally, they can provide further medical testing or treatments if necessary. \n",
      "\n",
      "rejected\n",
      "When your blood tests show that you have a low platelet count, you mean that you have a reduced ability to clotting the blood.  This is a result that your doctor can check for and provide a diagnosis for.\n",
      "2. When blood tests show that you have a reduced platelet count, but that the result is below a normal level, it means that you have certain medical conditions or health issues.  Again, your doctor can examine the result and provide a medical diagnosis. \n",
      "\n",
      "---------------------------\n",
      "\n",
      "prompt\n",
      "I'm having trouble finding the perfect job. What resources can help me. \n",
      "\n",
      "chosen\n",
      "Start by making a list of your interests and skills, then use job search websites such as Indeed or Glassdoor to search for openings that match your criteria. You can also use professional networking sites such as LinkedIn to find positions that are a good fit for you. Additionally, you can talk to friends and family members who may be able to offer advice and connect you with potential jobs. Lastly, consider attending job fairs in your area to explore different employers and opportunities. \n",
      "\n",
      "rejected\n",
      "st \n",
      "2nd \n",
      "3th \n",
      "5th \n",
      "6th \n",
      "7th \n",
      "8th \n",
      "9th \n",
      "10th \n",
      "11th\n",
      "12th\n",
      "13th \n",
      "13th\n",
      "14th\n",
      "\n",
      "So after, how does?\n",
      "\n",
      "-5th-6th-7th>...\n",
      "\n",
      "What was 6th and 7th?\n",
      "\n",
      "-2th-3rd>...\"\n",
      "\n",
      "What was 2th and 3rd?\n",
      "\n",
      "-1st-2nd-3rd>...\n",
      "\n",
      "What was 2th and 3rd?\n",
      "\n",
      "-1st-2nd-3rd>...\n",
      "\n",
      "What was 3rd?\n",
      "\n",
      "\n",
      " -2th-3rd>, 3th, 5th, 6th, 7th>...\n",
      "\n",
      "What was 4th?\n",
      "A -1st and 2nd together?\n",
      "A -2x, 3rd?, 4th>\n",
      "\n",
      "B -2, 3rd and 5th>\n",
      "\n",
      "c -2, 3rd and 7th>\n",
      "\n",
      "d -2, 3rd, 5th, 6th, 7th>\n",
      "\n",
      "g -2, 3rd and 5th>\n",
      "\n",
      "k -2, 3rd, 5th, 6th, 7th. \n",
      "\n",
      "---------------------------\n",
      "\n",
      "prompt\n",
      "What does a roux look like. \n",
      "\n",
      "chosen\n",
      "A roux is a mixture of fat, such as butter or oil, and flour that is cooked together until it is a smooth paste and used as a base for sauces and soups. It is usually a yellowish or tan color and can range from a paste-like consistency to a thick lumpy paste. \n",
      "\n",
      "rejected\n",
      "Yes, it is basically a paste.   \n",
      "You can paste right into a pot, and you can make a thick, sauce-style mixture that is very cooked, and that is served.  But on the end, it will start with a bunch of cooked vegetables and a mixture of gravy.  It can also be served with potatoes, and some of the best sauce for potatoes is a mixture called a roux, which is usually served on corn, with a sauce on the end.  You can also make a chandoull paste, and that is somewhat similar.  There’s lots of stuff in a pan that goes on top of the sauce, such as gravy-shaped pieces.  But the gravy itself is made by cooking some of the vegetables down in a pan and adding a mixture of stock to the pan.  That mixture is called a roux, and it is a combination of cooked vegetable fragments, mixed with the stock.  In some cases, it can also be whipped up and served a bit like a a paste, so the point is to avoid making a cooked paste.  It can also be cooked and served on the side.  But the gravy would still be made by the cooking of the vegetables. \n",
      "\n",
      "---------------------------\n",
      "\n",
      "prompt\n",
      "How to make money online. \n",
      "\n",
      "chosen\n",
      "One way to make money online is to start a business offering services or selling products online. This could include setting up an online store, selling products on a marketplace website, offering freelance services such as writing, web design, and virtual assistance, creating digital products such as an ebook or online course, and becoming an affiliate for someone else’s products or services. Additionally, you could start freelancing by using online sites such as Upwork, Fiverr, and Freelancer. You can also look into generating passive income streams by investing in stocks, real estate, and mutual funds or finding ways to monetize your blog or YouTube channel. \n",
      "\n",
      "rejected\n",
      "Make money online by blogging, social media, or becoming an Amazon affiliate. \n",
      "\n",
      "---------------------------\n",
      "\n",
      "prompt\n",
      "What are some job options for engineering majors. \n",
      "\n",
      "chosen\n",
      "Some job options for engineering majors include aerospace engineer, civil engineer, computer engineer, electrical engineer, mechanical engineer, software engineer, chemical engineer, biomedical engineer, and environmental engineer. \n",
      "\n",
      "rejected\n",
      "Those are in the engineering supply stores, and they’re called “Engineers. \n",
      "\n",
      "---------------------------\n",
      "\n"
     ]
    }
   ],
   "source": [
    "for i in range(10):    \n",
    "    print('prompt')\n",
    "    print(dataset[\"train\"][i]['prompt'],'\\n')\n",
    "    \n",
    "    print('chosen')\n",
    "    print(dataset[ 'train'][i]['chosen'],'\\n')\n",
    "\n",
    "    print('rejected')\n",
    "    print(dataset[ 'train'][i]['rejected'],'\\n')\n",
    "    print('---------------------------\\n')"
   ]
  },
  {
   "cell_type": "markdown",
   "id": "94ecc6a6-5fa3-40f5-808a-6d391b5f60b1",
   "metadata": {},
   "source": [
    "## Model and tokenizer setup\n",
    "In this section, you set up the tokenizer and the model for training. You can use the GPT-2 model for sequence classification, which helps in determining the quality of responses.\n",
    "\n",
    "Next, specify the model name or path as \"gpt2\". To initialize the tokenizer and model, use `GPT2Tokenizer.from_pretrained` and `GPT2ForSequenceClassification.from_pretrained`, respectively, with `num_labels` set to 1 for ranking (a numerical score value). To handle padding, set the `pad_token` of the tokenizer to be the same as the `eos_token` (end-of-sequence token). Similarly, configure the model to use the `eos_token_id` as the `pad_token_id`. This setup ensures that the tokenizer and model are correctly initialized and prepared for sequence classification tasks with GPT-2.\n"
   ]
  },
  {
   "cell_type": "code",
   "execution_count": 6,
   "id": "fc849b96-dd7e-4b07-a330-f9394b900816",
   "metadata": {},
   "outputs": [
    {
     "name": "stderr",
     "output_type": "stream",
     "text": [
      "Some weights of GPT2ForSequenceClassification were not initialized from the model checkpoint at gpt2 and are newly initialized: ['score.weight']\n",
      "You should probably TRAIN this model on a down-stream task to be able to use it for predictions and inference.\n"
     ]
    }
   ],
   "source": [
    "# Define the model name or path\n",
    "model_name_or_path = \"gpt2\"\n",
    "\n",
    "# Initialize tokenizer and model\n",
    "tokenizer = GPT2Tokenizer.from_pretrained(model_name_or_path, use_fast=True)\n",
    "model = GPT2ForSequenceClassification.from_pretrained(model_name_or_path, num_labels=1)\n",
    "\n",
    "# Add special tokens if necessary\n",
    "tokenizer.pad_token = tokenizer.eos_token\n",
    "model.config.pad_token_id = model.config.eos_token_id\n",
    "\n",
    "# Define the maximum length\n",
    "max_length = 1024"
   ]
  },
  {
   "cell_type": "markdown",
   "id": "8144de96-4e0a-4b0e-9e5f-657cf1585164",
   "metadata": {},
   "source": [
    "Next, preprocess the data set for training. Then combine the prompt with the chosen and rejected responses into a format suitable for input into the model. This process helps create clear input-output pairs for the model to learn from.\n",
    "\n",
    "`Lambda Function`: Define a lambda function `get_res` that takes the data set and a response type (chosen or rejected) and combines the prompt with the respective response. Each entry is formatted as a dialogue between \"Human\" and \"Assistant\".\n"
   ]
  },
  {
   "cell_type": "code",
   "execution_count": 7,
   "id": "e8a7ef0b-5fa1-4930-99ee-63f950acfe38",
   "metadata": {},
   "outputs": [],
   "source": [
    "get_res=lambda dataset,res:[  \"\\n\\nHuman: \"+prompt + \"\\n\\nAssistant: \"+resp for prompt, resp in zip(dataset[\"train\"][\"prompt\"], dataset[\"train\"][res])]"
   ]
  },
  {
   "cell_type": "markdown",
   "id": "4d9a1db7-9fc2-43d4-874d-e880d3d82efa",
   "metadata": {},
   "source": [
    "`Chosen Samples`: Apply the `get_res` function to create a list of chosen samples.\n",
    "\n",
    "`Rejected Samples`: Similarly, create a list of rejected samples using the same function.\n",
    "\n",
    "After applying the function,  you get the following results.\n"
   ]
  },
  {
   "cell_type": "code",
   "execution_count": 8,
   "id": "bd6b2184-40df-4e5b-a45b-dee74f6e8cd4",
   "metadata": {},
   "outputs": [
    {
     "name": "stdout",
     "output_type": "stream",
     "text": [
      "chosen \n",
      "\n",
      "Human: I was wondering if you could walk me through the process of setting up a hydroponic garden for herbs.\n",
      "\n",
      "Assistant: Sure! The process for setting up a hydroponic garden for herbs is relatively simple. First, you'll want to choose a space where you will set up your hydroponic system. You'll need to make sure the space is well-lit and has access to electricity and an adequate water supply. Next, you'll need to choose the type of hydroponic system you want to use. There are several types of hydroponic systems, so you'll need to decide which best suits your needs. Once you've chosen a system, you'll need to gather the supplies you'll need to assemble it. This includes things like pumps, growing trays, grow lights, and nutrients. Once you've assembled the system, you'll need to add your choice of herbs to the system. Lastly, you'll need to monitor and adjust the system as needed to ensure your herbs are getting the correct amount of light, water, and nutrients.\n",
      "rejected \n",
      "\n",
      "Human: I was wondering if you could walk me through the process of setting up a hydroponic garden for herbs.\n",
      "\n",
      "Assistant: How do I store a bagels for eating at a later date?\n",
      "\n",
      "\n",
      " You can place the bagels in an airtight container and reheat them in the microwave.  Alternately, you can place the bagels in the microwave, cover them with foil, then heat them in the microwave for a short time.\n"
     ]
    }
   ],
   "source": [
    "chosen_samples=get_res( dataset,'chosen')\n",
    "rejected_samples=get_res( dataset,'rejected')\n",
    "print('chosen',chosen_samples[0])\n",
    "print('rejected',rejected_samples[0])"
   ]
  },
  {
   "cell_type": "markdown",
   "id": "d9637498-9e9f-42e1-81f1-0a8ca5d4eadf",
   "metadata": {},
   "source": [
    "To facilitate the training process, create new columns in the data set that combine the prompt with chosen and rejected responses. This combination helps in evaluating the responses in a structured dialogue format.\n",
    "\n",
    "**Function definition**: Define a function `add_combined_columns` that takes an example (a single data point) and adds two new columns:\n",
    "- `prompt_chosen`: Combines the `prompt` with the `chosen` response in the same labeled format.\n",
    "- `prompt_rejected`: Combines the `prompt` with the `rejected` response in the same labeled format.\n",
    "\n",
    "**Apply function**: The `map` method is used to apply this function to each example in the training split of the data set. This method iterates over all the examples and modifies them in place.\n"
   ]
  },
  {
   "cell_type": "code",
   "execution_count": 9,
   "id": "274822a2-dfff-4433-b7ff-6699145d89ca",
   "metadata": {},
   "outputs": [
    {
     "name": "stderr",
     "output_type": "stream",
     "text": [
      "Map: 100%|██████████| 33143/33143 [00:04<00:00, 7828.79 examples/s] \n"
     ]
    }
   ],
   "source": [
    "# Define a function to combine 'prompt' with 'chosen' and 'rejected' responses\n",
    "def add_combined_columns(example):\n",
    "    # Combine 'prompt' with 'chosen' response, formatting it with \"Human:\" and \"Assistant:\" labels\n",
    "    example['prompt_chosen'] = \"\\n\\nHuman: \" + example[\"prompt\"] + \"\\n\\nAssistant: \" + example[\"chosen\"]\n",
    "    \n",
    "    # Combine 'prompt' with 'rejected' response, formatting it with \"Human:\" and \"Assistant:\" labels\n",
    "    example['prompt_rejected'] = \"\\n\\nHuman: \" + example[\"prompt\"] + \"\\n\\nAssistant: \" + example[\"rejected\"]\n",
    "    \n",
    "    # Return the modified example\n",
    "    return example\n",
    "\n",
    "# Apply the function to each example in the 'train' split of the dataset\n",
    "dataset['train'] = dataset['train'].map(add_combined_columns)"
   ]
  },
  {
   "cell_type": "markdown",
   "id": "e2528e25-54c5-4a88-973c-cd5dd820ac55",
   "metadata": {},
   "source": [
    "When using pretrained transformers for classification tasks, understanding the maximum sequence length supported by the model is crucial, as pretrained transformers have a fixed maximum token length, for example, GPT-2 has 1024 tokens. Inputs longer than this are truncated, potentially losing important information. So a function is written to determine the max length.\n"
   ]
  },
  {
   "cell_type": "code",
   "execution_count": 10,
   "id": "3b6c2e3c-bfe5-44d8-b73a-4f62db79cd59",
   "metadata": {},
   "outputs": [
    {
     "data": {
      "text/plain": [
       "<function __main__.<lambda>(samples)>"
      ]
     },
     "execution_count": 10,
     "metadata": {},
     "output_type": "execute_result"
    }
   ],
   "source": [
    "get_max_len= lambda samples: max([len(sample) for sample in samples])\n",
    "get_max_len"
   ]
  },
  {
   "cell_type": "code",
   "execution_count": 11,
   "id": "333cd995-76ac-4df8-9b80-e1ce1a2eedf9",
   "metadata": {},
   "outputs": [
    {
     "name": "stdout",
     "output_type": "stream",
     "text": [
      "rejected samples length 5011\n",
      "chosen samples length 3167\n"
     ]
    }
   ],
   "source": [
    "print(\"rejected samples length\",get_max_len(rejected_samples))\n",
    "print(\"chosen samples length\",get_max_len(chosen_samples))"
   ]
  },
  {
   "cell_type": "markdown",
   "id": "4d3abba7-5881-4a42-8509-3a4e9cf93a6f",
   "metadata": {},
   "source": [
    "Sometimes, you might want to identify samples shorter than a specified maximum length. This can be useful for filtering or handling special cases during preprocessing.\n",
    "\n",
    "The lambda function `find_short` takes a data set and a maximum length (`max_length`) as input. It uses a list comprehension to iterate over each example in the data set, enumerating both the index and the (chosen, rejected) pair. It zips `prompt_chosen` and `prompt_rejected` to pair each chosen response with its corresponding rejected response. For each pair, it checks if the length of either `chosen` or `rejected` is less than the specified `max_length`. If the condition is met, the index of that pair is included in the resulting list. The resulting list contains the index of all examples where either `prompt_chosen` or `prompt_rejected` is shorter than the specified `max_length`.\n"
   ]
  },
  {
   "cell_type": "code",
   "execution_count": 12,
   "id": "fed596f6-bc7a-4748-9ec5-a7befdc0b570",
   "metadata": {},
   "outputs": [],
   "source": [
    "find_short = lambda dataset, max_length: [\n",
    "    i for i, (chosen, rejected) in enumerate(zip(dataset['prompt_chosen'], dataset['prompt_rejected']))\n",
    "    if len(chosen) < max_length or len(rejected) < max_length\n",
    "]"
   ]
  },
  {
   "cell_type": "markdown",
   "id": "5fdc5369-c1e1-43d0-a8ca-bba9902707b7",
   "metadata": {},
   "source": [
    "To ensure that your data set only includes samples that meet the required length criteria, filter out any samples that are shorter than the specified `max_length`. This step is important for maintaining consistency in the input data for the model.\n",
    "\n",
    "Now, use the GPT-2 model for classification with a max length of 1024. First, set the maximum length (`max_length`) to 1024. The `find_short` function is then called with the training data set (`dataset['train']`) and this maximum length as arguments to find indices of examples where either `prompt_chosen` or `prompt_rejected` is shorter than the specified `max_length`. The resulting index (`subset_indices`) is used to create a subset of the training data set by selecting only the examples at these indices. The training data set (`dataset['train']`) is updated to this subset, and the `subset_indices` are returned or printed.\n"
   ]
  },
  {
   "cell_type": "code",
   "execution_count": 13,
   "id": "b9080b38-8257-4a7c-b64f-e96b9e22a9b2",
   "metadata": {},
   "outputs": [
    {
     "data": {
      "text/plain": [
       "[0, 1, 2, 3, 4, 5, 6, 7, 8, 9]"
      ]
     },
     "execution_count": 13,
     "metadata": {},
     "output_type": "execute_result"
    }
   ],
   "source": [
    "max_length=1024\n",
    "subset_indices=find_short (dataset['train'], max_length)\n",
    "dataset['train'] = dataset['train'].select(subset_indices)\n",
    "subset_indices[0:10]"
   ]
  },
  {
   "cell_type": "markdown",
   "id": "7fdb591b-591b-4cda-9e22-a1d725e1d199",
   "metadata": {},
   "source": [
    "\n",
    " The ```preprocess_function``` tokenizes the ```prompt_chosen``` and ```prompt_rejected``` keys, which are crucial for the RewardTrainer. The ```chosen``` key represents the preferred responses, while the ```rejected``` key represents the less preferred responses.\n",
    " Tokenizing these keys allows the model to process and understand the differences between high-quality and low-quality responses. By providing both ```chosen``` and ```rejected``` inputs, the RewardTrainer can learn to distinguish and prioritize better responses, which is essential for training models to follow instructions effectively.\n"
   ]
  },
  {
   "cell_type": "code",
   "execution_count": 14,
   "id": "f4350bca-c45f-437c-aa62-ceb1b98d27f3",
   "metadata": {},
   "outputs": [],
   "source": [
    "# Define a preprocessing function to tokenize the 'prompt_chosen' and 'prompt_rejected' keys\n",
    "def preprocess_function(examples):\n",
    "    # Tokenize the 'prompt_chosen' text with truncation and padding to the maximum length\n",
    "    tokenized_chosen = tokenizer(examples['prompt_chosen'], truncation=True, max_length=max_length, padding=\"max_length\")\n",
    "    \n",
    "    # Tokenize the 'prompt_rejected' text with truncation and padding to the maximum length\n",
    "    tokenized_rejected = tokenizer(examples['prompt_rejected'], truncation=True, max_length=max_length, padding=\"max_length\")\n",
    "    \n",
    "    # Return the tokenized inputs as a dictionary\n",
    "    return {\n",
    "        \"input_ids_chosen\": tokenized_chosen[\"input_ids\"],  # Token IDs for 'chosen' responses\n",
    "        \"attention_mask_chosen\": tokenized_chosen[\"attention_mask\"],  # Attention masks for 'chosen' responses\n",
    "        \"input_ids_rejected\": tokenized_rejected[\"input_ids\"],  # Token IDs for 'rejected' responses\n",
    "        \"attention_mask_rejected\": tokenized_rejected[\"attention_mask\"],  # Attention masks for 'rejected' responses\n",
    "    }"
   ]
  },
  {
   "cell_type": "markdown",
   "id": "5ba8ead0-7570-47bc-9e1e-37f30125f7bd",
   "metadata": {},
   "source": [
    "\n",
    "The `input_ids_chosen` and `input_ids_rejected` fields contain the token IDs for the `chosen` and `rejected` responses, respectively, which are the numerical representations of the text used by the model. The `attention_mask_chosen` and `attention_mask_rejected` fields contain the attention masks for the `chosen` and `rejected` responses, respectively, which indicates tokens that should be attended to (1) and should ignore (0). These fields are crucial for the `RewardTrainer` because they provide the necessary tokenized inputs and attention masks for both the preferred and less preferred responses. By comparing the token IDs and attention patterns of the `chosen` and `rejected` responses, the `RewardTrainer` can distinguish between high- and low-quality responses, thereby improving the model's ability to prioritize better responses in instruction-following tasks.\n",
    "\n",
    "You can apply the ```reprocess_function``` to one sample:\n"
   ]
  },
  {
   "cell_type": "code",
   "execution_count": 15,
   "id": "7de156f0-337e-41fe-96dc-75d6ecd69eae",
   "metadata": {},
   "outputs": [
    {
     "data": {
      "text/plain": [
       "dict_keys(['input_ids_chosen', 'attention_mask_chosen', 'input_ids_rejected', 'attention_mask_rejected'])"
      ]
     },
     "execution_count": 15,
     "metadata": {},
     "output_type": "execute_result"
    }
   ],
   "source": [
    "example=preprocess_function(dataset['train'][0])\n",
    "example.keys()"
   ]
  },
  {
   "cell_type": "markdown",
   "id": "fca4736d-f1e3-4e7e-8097-cabe5b207f51",
   "metadata": {},
   "source": [
    "Now, create a dictionary with 'chosen' and 'rejected' samples from the training data set. This dictionary is created to make it easier to validate the model later.\n"
   ]
  },
  {
   "cell_type": "code",
   "execution_count": 16,
   "id": "0668ef91-b220-4bea-8263-47513b63a47e",
   "metadata": {},
   "outputs": [],
   "source": [
    "train_str={'chosen': [sample for sample in dataset['train'] ['prompt_chosen']], 'rejected':[sample for sample in dataset['train'] ['prompt_rejected']]}"
   ]
  },
  {
   "cell_type": "markdown",
   "id": "fa57d4b7-898d-4d7f-a843-53b26963dbb1",
   "metadata": {},
   "source": [
    "The code applies the preprocess_function to each example in the training data set using the map method, which tokenizes the ```prompt_chosen``` and ```prompt_rejected``` texts. The `batched = True` parameter allows the function to process multiple examples at once, improving efficiency. Additionally, the `remove_columns` parameter specifies a list of columns (```prompt```, ```chosen```, ```rejected```, ```prompt_chosen```, ```prompt_rejected```) to be removed from the data set after processing. This ensures that only the tokenized inputs and attention masks generated by `preprocess_function` are retained, simplifying the data set structure and making it more suitable for model training and validation.\n"
   ]
  },
  {
   "cell_type": "code",
   "execution_count": 17,
   "id": "c7c09696-02bb-4c0f-bf27-882c1b218617",
   "metadata": {},
   "outputs": [
    {
     "name": "stderr",
     "output_type": "stream",
     "text": [
      "Map: 100%|██████████| 33043/33043 [01:15<00:00, 440.06 examples/s]\n"
     ]
    }
   ],
   "source": [
    "dataset['train'] = dataset['train'].map(preprocess_function, batched=True, remove_columns=['prompt',\"chosen\", \"rejected\",'prompt_chosen', 'prompt_rejected'])"
   ]
  },
  {
   "cell_type": "markdown",
   "id": "61b7eb3a-11a4-4321-a7cb-c945a174300d",
   "metadata": {},
   "source": [
    "The only columns left are the tokens and masks indexes.\n"
   ]
  },
  {
   "cell_type": "code",
   "execution_count": 18,
   "id": "6a496ef0-65f9-4e4b-ab4c-5265cbc3d27a",
   "metadata": {},
   "outputs": [
    {
     "data": {
      "text/plain": [
       "{'train': ['input_ids_chosen',\n",
       "  'attention_mask_chosen',\n",
       "  'input_ids_rejected',\n",
       "  'attention_mask_rejected']}"
      ]
     },
     "execution_count": 18,
     "metadata": {},
     "output_type": "execute_result"
    }
   ],
   "source": [
    "dataset.column_names"
   ]
  },
  {
   "cell_type": "markdown",
   "id": "6b4a4ff9-cf46-488b-b2e7-7f94bd0eb372",
   "metadata": {},
   "source": [
    "Finally, split the data set into training and testing data sets.\n"
   ]
  },
  {
   "cell_type": "code",
   "execution_count": 19,
   "id": "cec7f5e4-ce62-4561-a2d8-0ded0bc44a79",
   "metadata": {},
   "outputs": [],
   "source": [
    "split_dataset = dataset['train'].train_test_split(test_size=0.2)\n",
    "\n",
    "# Create a DatasetDict to hold train and test splits\n",
    "dataset_dict = DatasetDict({\n",
    "    'train': split_dataset['train'],\n",
    "    'test': split_dataset['test'],\n",
    "})"
   ]
  },
  {
   "cell_type": "markdown",
   "id": "6fd17d49-9a89-4e0b-81d2-3562d67388bb",
   "metadata": {},
   "source": [
    "\n",
    "## LoRA configuration\n",
    "Now that the training data set is ready, you use the pretrain transformer model to start training. However, it is advisable to use a more efficient LoRA configuration for the model. Now, define the LoRA configuration and training arguments.\n",
    "\n",
    "First, initialize a `LoraConfig` configuration for low-rank adaptation (LoRA) in a sequence classification task. The configuration is created by using the `LoraConfig` class from the `peft` library and specifies several parameters:\n",
    "\n",
    "- **task_type=TaskType.SEQ_CLS**: Specifies the type of task, that is, the sequence classification for this lab.\n",
    "- **inference_mode=False**: Indicates that the configuration is for training mode rather than inference.\n",
    "- **r=8**: Sets the rank of the LoRA matrices.\n",
    "- **lora_alpha=32**: Sets the alpha value for scaling the LoRA matrices.\n",
    "- **lora_dropout=0.1**: Specifies the dropout rate for the LoRA layers, helping to prevent overfitting.\n",
    "- **target_modules=[\"attn.c_attn\", \"attn.c_proj\"]**: Lists the specific attention layers in the model that will be adapted using LoRA. This includes the \"attn.c_attn\" and \"attn.c_proj\" modules.\n",
    "\n",
    "This configuration is useful for applying LoRA to the specific parts of the model, enabling efficient fine-tuning by adapting only a subset of the model parameters.\n"
   ]
  },
  {
   "cell_type": "code",
   "execution_count": 20,
   "id": "d8c7452b-8502-42b8-a5cf-c4bf022af1ae",
   "metadata": {},
   "outputs": [],
   "source": [
    "peft_config = LoraConfig(\n",
    "    task_type=TaskType.SEQ_CLS,\n",
    "    inference_mode=False,\n",
    "    r=8,\n",
    "    lora_alpha=32,\n",
    "    lora_dropout=0.1,\n",
    "    target_modules=[\"attn.c_attn\", \"attn.c_proj\"]  # Target attention layers\n",
    ")"
   ]
  },
  {
   "cell_type": "markdown",
   "id": "20e7b1cf-329b-4887-b474-28147ee08f33",
   "metadata": {},
   "source": [
    "## Training arguments\n",
    "\n",
    "Define the training arguments by using the `TrainingArguments` class from the `transformers` library. These arguments configure various aspects of the training process:\n",
    "\n",
    "- **per_device_train_batch_size=3**: Sets the batch size per device (GPU/CPU) to 3\n",
    "- **num_train_epochs=3**: Specifies the number of training epochs and is set to 3.\n",
    "- **gradient_accumulation_steps=8**: Accumulates gradients over 8 steps before performing a backward/update pass, effectively increasing the batch size\n",
    "- **learning_rate=1.41e-5**: Sets the learning rate for the optimizer to 1.41e-5\n",
    "- **output_dir=\"./model_output3\"**: Specifies the directory where the model checkpoints and other outputs are saved\n",
    "- **logging_steps=10**: Logs training progress every 10 steps\n",
    "- **evaluation_strategy=\"steps\"**: Sets the evaluation strategy to evaluate the model at regular steps\n",
    "- **eval_steps=500**: Evaluates the model every 500 steps\n",
    "- **save_steps=500**: Saves the model checkpoint every 500 steps\n",
    "- **save_total_limit=2**: Limits the number of saved checkpoints to 2, deleting older checkpoints to save space\n",
    "\n",
    "These arguments configure the training loop, including batch size, learning rate, logging, evaluation, and checkpoint-saving strategies.\n"
   ]
  },
  {
   "cell_type": "code",
   "execution_count": 21,
   "id": "b2dfa68a-77b5-42ec-8b28-9a3109e4a370",
   "metadata": {},
   "outputs": [],
   "source": [
    "# Define training arguments\n",
    "\n",
    "training_args = TrainingArguments(\n",
    "    per_device_train_batch_size=3,  # Set to 3\n",
    "    num_train_epochs=3,  # Set to 3\n",
    "    gradient_accumulation_steps=8,\n",
    "    learning_rate=1.41e-5,\n",
    "    output_dir=\"./model_output3\",\n",
    "    logging_steps=10,\n",
    "    eval_strategy=\"steps\",\n",
    "    eval_steps=500,\n",
    "    save_steps=500,\n",
    "    save_total_limit=2,\n",
    ")"
   ]
  },
  {
   "cell_type": "markdown",
   "id": "78ce743f-bde1-4890-827e-776a5c851fc7",
   "metadata": {},
   "source": [
    "### RewardTrainer\n",
    "\n",
    "The `RewardTrainer` is a specialized trainer that is designed to train models with a reward signal. This is often used in reinforcement learning scenarios where the model learns to optimize for better responses. It is initialized with several parameters:\n",
    "\n",
    "- **model**: The model to be trained\n",
    "- **args**: The training arguments. Typically, an instance of `TrainingArguments`\n",
    "- **tokenizer**: The tokenizer used to process the text inputs\n",
    "- **train_dataset**: The training data set\n",
    "- **eval_dataset**: The evaluation data set\n",
    "- **peft_config**: The configuration for LoRA\n",
    "\n",
    "The `RewardTrainer` orchestrates the training process, handling tasks such as batching, optimization, evaluation, and saving model checkpoints. It is particularly useful for training models that need to learn from feedback signals, improving their ability to generate high-quality responses.\n"
   ]
  },
  {
   "cell_type": "code",
   "execution_count": 22,
   "id": "0487f47a-ef67-4af2-8b5f-df99a423bcef",
   "metadata": {},
   "outputs": [
    {
     "name": "stderr",
     "output_type": "stream",
     "text": [
      "The installed version of bitsandbytes was compiled without GPU support. 8-bit optimizers, 8-bit multiplication, and GPU quantization are unavailable.\n"
     ]
    }
   ],
   "source": [
    "# Initialize RewardTrainer\n",
    "trainer = RewardTrainer(\n",
    "    model=model,\n",
    "    args=training_args,\n",
    "    tokenizer=tokenizer,\n",
    "    train_dataset=dataset_dict['train'],\n",
    "    eval_dataset=dataset_dict['test'],\n",
    "    peft_config=peft_config,\n",
    ")"
   ]
  },
  {
   "cell_type": "markdown",
   "id": "e92a4e63-5bfb-4981-aa01-358a9b82d25d",
   "metadata": {},
   "source": [
    ">Note: You can safely ignore the above warning.\n"
   ]
  },
  {
   "cell_type": "markdown",
   "id": "df942822-2174-4f37-bcfe-d565c7ca22c3",
   "metadata": {},
   "source": [
    "The next step is training, saving, and evaluating a model by using the `RewardTrainer`. The `trainer.train()` method initiates the training process, where the model learns from the training data set, optimizing its parameters to improve performance. After training, the `trainer.save_model(output_dir)` method saves the trained model to the specified output directory, allowing for future use or deployment. Finally, the `trainer.evaluate()` method evaluates the model's performance on the evaluation data set, returning metrics that provide insights into how well the model performs. These metrics are then printed to give a detailed view of the model's evaluation results. \n",
    "\n",
    "Note: The training takes a very long time. Therefore, the model has already been trained and saved for you. If you want to train the model yourself, go ahead and uncomment the following cell.\n"
   ]
  },
  {
   "cell_type": "code",
   "execution_count": 23,
   "id": "3f3d8561-b63c-41b7-b6ef-a8dfa3e84fa7",
   "metadata": {},
   "outputs": [],
   "source": [
    "# output_dir=\"./model_output3\"\n",
    "\n",
    "# # Train the model\n",
    "# trainer.train()\n",
    "\n",
    "# # Save the model\n",
    "# trainer.save_model(output_dir)\n",
    "\n",
    "# # Evaluate the model\n",
    "# metrics = trainer.evaluate()\n",
    "# print(metrics)\n",
    "\n",
    "# model.config.save_pretrained(\"./backup\")"
   ]
  },
  {
   "cell_type": "markdown",
   "id": "a0851183-facd-4b95-85fc-e2cd18315a75",
   "metadata": {},
   "source": [
    "Now, download the pretained model. If you have trained the model yourself, you can skip this step.\n"
   ]
  },
  {
   "cell_type": "code",
   "execution_count": 24,
   "id": "9a87bde0-0466-462a-9298-3eef7ebc8647",
   "metadata": {},
   "outputs": [
    {
     "name": "stdout",
     "output_type": "stream",
     "text": [
      "File downloaded successfully: RetriverTrainerModel.zip\n"
     ]
    }
   ],
   "source": [
    "# Use Python's requests library to download the file\n",
    "import requests\n",
    "\n",
    "url = \"https://cf-courses-data.s3.us.cloud-object-storage.appdomain.cloud/VZcK8FJ-kQ3nEJoxWGNYTQ/RetriverTrainerModel.zip\"\n",
    "output_file = \"RetriverTrainerModel.zip\"\n",
    "\n",
    "response = requests.get(url)\n",
    "if response.status_code == 200:\n",
    "\twith open(output_file, \"wb\") as file:\n",
    "\t\tfile.write(response.content)\n",
    "\tprint(f\"File downloaded successfully: {output_file}\")\n",
    "else:\n",
    "\tprint(f\"Failed to download file. Status code: {response.status_code}\")"
   ]
  },
  {
   "cell_type": "code",
   "execution_count": 33,
   "id": "155f6e1a-f48d-4b66-96fb-70f823071544",
   "metadata": {},
   "outputs": [
    {
     "name": "stderr",
     "output_type": "stream",
     "text": [
      "Der Befehl \"unzip\" ist entweder falsch geschrieben oder\n",
      "konnte nicht gefunden werden.\n"
     ]
    }
   ],
   "source": [
    "!unzip -o RetriverTrainerModel.zip -d extracted_model"
   ]
  },
  {
   "cell_type": "markdown",
   "id": "dc648c25-9d83-4650-ba7d-66ae3b4f3920",
   "metadata": {},
   "source": [
    "\n",
    "## Evaluating the model\n",
    "The `RewardTrainer` uses pairwise comparison to measure the model's ability to distinguish between high and low-quality responses. In pairwise comparison, the model is presented with two responses: one chosen as the preferred response and one as the less preferred (rejected) response. The model evaluates each response in the pair and assigns a score or reward based on its learned criteria. To perform an evaluation, two separate responses are inputted, and the model generates a score that is logit for each response. The response with the higher score is selected as the preferred one, demonstrating the model's capability to accurately prioritize better responses.\n",
    "\n",
    "First, load the model.\n"
   ]
  },
  {
   "cell_type": "code",
   "execution_count": 32,
   "id": "95a9fc87-876a-473b-ada8-1a32462c01f2",
   "metadata": {},
   "outputs": [
    {
     "name": "stderr",
     "output_type": "stream",
     "text": [
      "Some weights of GPT2ForSequenceClassification were not initialized from the model checkpoint at gpt2 and are newly initialized: ['score.weight']\n",
      "You should probably TRAIN this model on a down-stream task to be able to use it for predictions and inference.\n"
     ]
    },
    {
     "data": {
      "text/plain": [
       "GPT2ForSequenceClassification(\n",
       "  (transformer): GPT2Model(\n",
       "    (wte): Embedding(50257, 768)\n",
       "    (wpe): Embedding(1024, 768)\n",
       "    (drop): Dropout(p=0.1, inplace=False)\n",
       "    (h): ModuleList(\n",
       "      (0-11): 12 x GPT2Block(\n",
       "        (ln_1): LayerNorm((768,), eps=1e-05, elementwise_affine=True)\n",
       "        (attn): GPT2SdpaAttention(\n",
       "          (c_attn): lora.Linear(\n",
       "            (base_layer): Conv1D()\n",
       "            (lora_dropout): ModuleDict(\n",
       "              (default): Dropout(p=0.1, inplace=False)\n",
       "            )\n",
       "            (lora_A): ModuleDict(\n",
       "              (default): Linear(in_features=768, out_features=8, bias=False)\n",
       "            )\n",
       "            (lora_B): ModuleDict(\n",
       "              (default): Linear(in_features=8, out_features=2304, bias=False)\n",
       "            )\n",
       "            (lora_embedding_A): ParameterDict()\n",
       "            (lora_embedding_B): ParameterDict()\n",
       "            (lora_magnitude_vector): ModuleDict()\n",
       "          )\n",
       "          (c_proj): lora.Linear(\n",
       "            (base_layer): Conv1D()\n",
       "            (lora_dropout): ModuleDict(\n",
       "              (default): Dropout(p=0.1, inplace=False)\n",
       "            )\n",
       "            (lora_A): ModuleDict(\n",
       "              (default): Linear(in_features=768, out_features=8, bias=False)\n",
       "            )\n",
       "            (lora_B): ModuleDict(\n",
       "              (default): Linear(in_features=8, out_features=768, bias=False)\n",
       "            )\n",
       "            (lora_embedding_A): ParameterDict()\n",
       "            (lora_embedding_B): ParameterDict()\n",
       "            (lora_magnitude_vector): ModuleDict()\n",
       "          )\n",
       "          (attn_dropout): Dropout(p=0.1, inplace=False)\n",
       "          (resid_dropout): Dropout(p=0.1, inplace=False)\n",
       "        )\n",
       "        (ln_2): LayerNorm((768,), eps=1e-05, elementwise_affine=True)\n",
       "        (mlp): GPT2MLP(\n",
       "          (c_fc): Conv1D()\n",
       "          (c_proj): Conv1D()\n",
       "          (act): NewGELUActivation()\n",
       "          (dropout): Dropout(p=0.1, inplace=False)\n",
       "        )\n",
       "      )\n",
       "    )\n",
       "    (ln_f): LayerNorm((768,), eps=1e-05, elementwise_affine=True)\n",
       "  )\n",
       "  (score): ModulesToSaveWrapper(\n",
       "    (original_module): Linear(in_features=768, out_features=1, bias=False)\n",
       "    (modules_to_save): ModuleDict(\n",
       "      (default): Linear(in_features=768, out_features=1, bias=False)\n",
       "    )\n",
       "  )\n",
       ")"
      ]
     },
     "execution_count": 32,
     "metadata": {},
     "output_type": "execute_result"
    }
   ],
   "source": [
    "DEVICE = \"cuda\" if torch.cuda.is_available() else \"cpu\"\n",
    "model = GPT2ForSequenceClassification.from_pretrained(\"./extracted_model/model_output3\", num_labels=1).to(DEVICE)\n",
    "model"
   ]
  },
  {
   "cell_type": "markdown",
   "id": "93c63a31-5b46-42c2-87da-05a895746ef8",
   "metadata": {},
   "source": [
    ">Note: You can safely ignore the above warning.\n"
   ]
  },
  {
   "cell_type": "markdown",
   "id": "9c5cb8e3-4a39-4992-b0c7-c080c5e1e752",
   "metadata": {},
   "source": [
    "Next, plot the loss. You can see it converges nicely.\n",
    "\n",
    "Run the below code to unzip the file.\n"
   ]
  },
  {
   "cell_type": "code",
   "execution_count": 34,
   "id": "753c1b89-0bdf-4df8-acce-a197307e3054",
   "metadata": {},
   "outputs": [
    {
     "data": {
      "image/png": "[encoded data removed]",
      "text/plain": [
       "<Figure size 1000x500 with 1 Axes>"
      ]
     },
     "metadata": {},
     "output_type": "display_data"
    }
   ],
   "source": [
    "log_file = f\"extracted_model/model_output3/checkpoint-2500/trainer_state.json\"\n",
    "\n",
    "# Read the log file\n",
    "with open(log_file, 'r') as f:\n",
    "    logs = json.load(f)\n",
    "\n",
    "# Extract training loss values\n",
    "steps = []\n",
    "losses = []\n",
    "for log in logs[\"log_history\"]:\n",
    "    if \"loss\" in log:\n",
    "        steps.append(log[\"step\"])\n",
    "        losses.append(log[\"loss\"])\n",
    "\n",
    "# Plot the training loss\n",
    "plt.figure(figsize=(10, 5))\n",
    "plt.plot(steps, losses, label=\"Training Loss\")\n",
    "plt.xlabel(\"Steps\")\n",
    "plt.ylabel(\"Loss\")\n",
    "plt.title(\"Training Loss Over Time\")\n",
    "plt.legend()\n",
    "plt.show()"
   ]
  },
  {
   "cell_type": "markdown",
   "id": "35152074-8775-4c43-a320-1c4320cd2abe",
   "metadata": {},
   "source": [
    "The code first tokenizes `text1` by using the tokenizer, converting it into the format required by the model. The `tokenizer` function processes the input text into tensors with padding and truncation to ensure uniform input length, up to a maximum of 512 tokens. The `inputs` are then moved to the GPU, if available, for faster computation. The `model` is also transferred to the GPU. The inputs dictionary is updated to move all of its items to the device (GPU or CPU).\n",
    "\n",
    "The model is then used to generate outputs without computing gradients (`torch.no_grad()`), making the inference process faster and more memory-efficient. The score, the logits from the model's output, are extracted, representing the raw predictions. These logits are then passed through a sigmoid function to convert them into probabilities, which can be interpreted as the model's confidence in the projections. The resulting probabilities are printed or returned for further use.\n"
   ]
  },
  {
   "cell_type": "code",
   "execution_count": 35,
   "id": "5a562053-aee1-411d-a8b2-312c702ddfef",
   "metadata": {},
   "outputs": [
    {
     "name": "stdout",
     "output_type": "stream",
     "text": [
      "\n",
      "\n",
      "Human: I was wondering if you could walk me through the process of setting up a hydroponic garden for herbs.\n",
      "\n",
      "Assistant: Sure! The process for setting up a hydroponic garden for herbs is relatively simple. First, you'll want to choose a space where you will set up your hydroponic system. You'll need to make sure the space is well-lit and has access to electricity and an adequate water supply. Next, you'll need to choose the type of hydroponic system you want to use. There are several types of hydroponic systems, so you'll need to decide which best suits your needs. Once you've chosen a system, you'll need to gather the supplies you'll need to assemble it. This includes things like pumps, growing trays, grow lights, and nutrients. Once you've assembled the system, you'll need to add your choice of herbs to the system. Lastly, you'll need to monitor and adjust the system as needed to ensure your herbs are getting the correct amount of light, water, and nutrients.\n"
     ]
    }
   ],
   "source": [
    "text1=train_str['chosen'][0]\n",
    "print(text1)"
   ]
  },
  {
   "cell_type": "code",
   "execution_count": 36,
   "id": "17fb4a4f-cee4-49fa-84d7-2b3e3c15864f",
   "metadata": {},
   "outputs": [
    {
     "name": "stdout",
     "output_type": "stream",
     "text": [
      "Score : tensor([[7.6648]])\n"
     ]
    }
   ],
   "source": [
    "inputs = tokenizer(text1, return_tensors=\"pt\", padding=True, truncation=True, max_length=512)\n",
    "\n",
    "# Move inputs to the GPU if available\n",
    "device = torch.device(\"cuda\" if torch.cuda.is_available() else \"cpu\")\n",
    "model.to(device)\n",
    "inputs = {k: v.to(device) for k, v in inputs.items()}\n",
    "with torch.no_grad():\n",
    "    outputs = model(**inputs)\n",
    "logit_1 = outputs.logits\n",
    "print(\"Score :\",logit_1 )"
   ]
  },
  {
   "cell_type": "markdown",
   "id": "abd74b34-bfcb-42f7-ae84-d4b504c551b7",
   "metadata": {},
   "source": [
    "Do the same for the rejected sample \n"
   ]
  },
  {
   "cell_type": "code",
   "execution_count": 37,
   "id": "40ae7f11-46cc-4256-bec8-3ac1ae5548f6",
   "metadata": {},
   "outputs": [
    {
     "name": "stdout",
     "output_type": "stream",
     "text": [
      "\n",
      "\n",
      "Human: I was wondering if you could walk me through the process of setting up a hydroponic garden for herbs.\n",
      "\n",
      "Assistant: How do I store a bagels for eating at a later date?\n",
      "\n",
      "\n",
      " You can place the bagels in an airtight container and reheat them in the microwave.  Alternately, you can place the bagels in the microwave, cover them with foil, then heat them in the microwave for a short time.\n"
     ]
    }
   ],
   "source": [
    "text2=train_str['rejected'][0]\n",
    "print(text2)"
   ]
  },
  {
   "cell_type": "code",
   "execution_count": 38,
   "id": "b02fc9e6-f555-4604-b7c3-1c5be9ecc3d2",
   "metadata": {},
   "outputs": [
    {
     "name": "stdout",
     "output_type": "stream",
     "text": [
      "Score : tensor([[-7.6373]])\n"
     ]
    }
   ],
   "source": [
    "inputs = tokenizer(text2, return_tensors=\"pt\", padding=True, truncation=True, max_length=512)\n",
    "\n",
    "# Move inputs to the GPU if available\n",
    "device = torch.device(\"cuda\" if torch.cuda.is_available() else \"cpu\")\n",
    "model.to(device)\n",
    "inputs = {k: v.to(device) for k, v in inputs.items()}\n",
    "with torch.no_grad():\n",
    "    outputs = model(**inputs)\n",
    "logit_2 = outputs.logits\n",
    "print(\"Score :\",logit_2 )"
   ]
  },
  {
   "cell_type": "markdown",
   "id": "d9de5531-e93c-47a4-be93-b2e8764ecdab",
   "metadata": {},
   "source": [
    "To demonstrate how pairwise comparison is useful for evaluating and ranking responses based on the model's predictions, use the following code that performs a pairwise comparison. To determine which of the two responses, represented by `logit_1` and `logit_2`, is preferred, compare the logits, which are raw scores output by the model that indicate the quality of the responses. If `logit_1` is greater than `logit_2`, the first response (`text1`) is selected as the better response, and the second response (`text2`) is rejected, printing both the selected and rejected responses along with their respective scores. Conversely, if `logit_2` is greater or equal, the second response (`text2`) is selected, and the first response (`text1`) is rejected, again printing both responses and their scores. \n"
   ]
  },
  {
   "cell_type": "code",
   "execution_count": 39,
   "id": "52457e2d-a50f-4bfe-86fa-e5b54af72c3c",
   "metadata": {},
   "outputs": [
    {
     "name": "stdout",
     "output_type": "stream",
     "text": [
      "--------selected---------\n",
      "\n",
      "\n",
      "Human: I was wondering if you could walk me through the process of setting up a hydroponic garden for herbs.\n",
      "\n",
      "Assistant: Sure! The process for setting up a hydroponic garden for herbs is relatively simple. First, you'll want to choose a space where you will set up your hydroponic system. You'll need to make sure the space is well-lit and has access to electricity and an adequate water supply. Next, you'll need to choose the type of hydroponic system you want to use. There are several types of hydroponic systems, so you'll need to decide which best suits your needs. Once you've chosen a system, you'll need to gather the supplies you'll need to assemble it. This includes things like pumps, growing trays, grow lights, and nutrients. Once you've assembled the system, you'll need to add your choice of herbs to the system. Lastly, you'll need to monitor and adjust the system as needed to ensure your herbs are getting the correct amount of light, water, and nutrients. 7.664787769317627\n",
      "--------rejected---------\n",
      "\n",
      "\n",
      "Human: I was wondering if you could walk me through the process of setting up a hydroponic garden for herbs.\n",
      "\n",
      "Assistant: How do I store a bagels for eating at a later date?\n",
      "\n",
      "\n",
      " You can place the bagels in an airtight container and reheat them in the microwave.  Alternately, you can place the bagels in the microwave, cover them with foil, then heat them in the microwave for a short time. -7.637293338775635\n"
     ]
    }
   ],
   "source": [
    "if logit_1 > logit_2:\n",
    "    print(\"--------selected---------\")\n",
    "    print(text1, logit_1.detach().item())\n",
    "    print(\"--------rejected---------\")\n",
    "    print(text2, logit_2.detach().item())\n",
    "else:\n",
    "    print(\"selected \")\n",
    "    print(text2, logit_2.detach().item())\n",
    "    print(\"rejected\")\n",
    "    print(text2, logit_2.detach().item())  "
   ]
  },
  {
   "cell_type": "markdown",
   "id": "99575b0a-ae21-4884-8917-b77d7b2ed83b",
   "metadata": {},
   "source": [
    "Now, convert the process of tokenizing, generating a score, and comparing the outputs into two separate functions. The first function handles tokenizing the text and generating the model's output scores, while the second function performs the pairwise comparison of these scores. Structuring the code this way ensures that the process is modular and easier to manage, facilitating a clear and efficient workflow for evaluating and selecting the better response based on the model's predictions.\n"
   ]
  },
  {
   "cell_type": "code",
   "execution_count": 40,
   "id": "bd4b21ba-a589-46fe-beb7-fbfbe50687bf",
   "metadata": {},
   "outputs": [],
   "source": [
    "# Function to make a prediction and get the logits\n",
    "def predict_and_get_logits(text):\n",
    "    # Tokenize the input text\n",
    "    inputs = tokenizer(text, return_tensors=\"pt\", padding=True, truncation=True, max_length=512)\n",
    "    inputs = {k: v.to(device) for k, v in inputs.items()}\n",
    "\n",
    "    # Perform the forward pass\n",
    "    with torch.no_grad():\n",
    "        outputs = model(**inputs)\n",
    "    \n",
    "    # Extract the logits from the outputs\n",
    "    logits = outputs.logits.squeeze().item()  # Assuming binary classification and batch size of 1\n",
    "    \n",
    "    return logits"
   ]
  },
  {
   "cell_type": "code",
   "execution_count": 41,
   "id": "6825f49f-7178-4e53-ad91-d5cebfdd30ce",
   "metadata": {},
   "outputs": [],
   "source": [
    "# Function to compare two texts\n",
    "def compare_texts(text1, text2):\n",
    "    logit1 = predict_and_get_logits(text1)\n",
    "    logit2 = predict_and_get_logits(text2)\n",
    "\n",
    "    if logit1 > logit2:\n",
    "        print(\"selected---------\")\n",
    "        print(text1, f\"score: {logit1}\")\n",
    "\n",
    "        return text1\n",
    "    else:\n",
    "        print(\"selected---------\")\n",
    "        print(text2,  f\"score: {logit2}\")\n",
    "\n",
    "        return text2"
   ]
  },
  {
   "cell_type": "markdown",
   "id": "a856785d-5b25-4c5b-a911-daa5096f13b4",
   "metadata": {},
   "source": [
    "Finally,  evaluate the performance of a model by using a pairwise comparison approach over a subset of the data set. It begins by defining N, the number of samples to evaluate, and initializes a counter `correct_selections` to keep track of how many times the model correctly identifies the preferred response. The code then iterates over the first N pairs of chosen and rejected responses from the training data set (`train_str['chosen']` and `train_str['rejected']`).\n"
   ]
  },
  {
   "cell_type": "code",
   "execution_count": 42,
   "id": "3fb610a4-81d8-448c-acc0-4e8c1f0f119d",
   "metadata": {},
   "outputs": [
    {
     "name": "stdout",
     "output_type": "stream",
     "text": [
      "Chosen Response:\n",
      " \n",
      "\n",
      "Human: I was wondering if you could walk me through the process of setting up a hydroponic garden for herbs.\n",
      "\n",
      "Assistant: Sure! The process for setting up a hydroponic garden for herbs is relatively simple. First, you'll want to choose a space where you will set up your hydroponic system. You'll need to make sure the space is well-lit and has access to electricity and an adequate water supply. Next, you'll need to choose the type of hydroponic system you want to use. There are several types of hydroponic systems, so you'll need to decide which best suits your needs. Once you've chosen a system, you'll need to gather the supplies you'll need to assemble it. This includes things like pumps, growing trays, grow lights, and nutrients. Once you've assembled the system, you'll need to add your choice of herbs to the system. Lastly, you'll need to monitor and adjust the system as needed to ensure your herbs are getting the correct amount of light, water, and nutrients.\n",
      "selected---------\n",
      "\n",
      "\n",
      "Human: I was wondering if you could walk me through the process of setting up a hydroponic garden for herbs.\n",
      "\n",
      "Assistant: Sure! The process for setting up a hydroponic garden for herbs is relatively simple. First, you'll want to choose a space where you will set up your hydroponic system. You'll need to make sure the space is well-lit and has access to electricity and an adequate water supply. Next, you'll need to choose the type of hydroponic system you want to use. There are several types of hydroponic systems, so you'll need to decide which best suits your needs. Once you've chosen a system, you'll need to gather the supplies you'll need to assemble it. This includes things like pumps, growing trays, grow lights, and nutrients. Once you've assembled the system, you'll need to add your choice of herbs to the system. Lastly, you'll need to monitor and adjust the system as needed to ensure your herbs are getting the correct amount of light, water, and nutrients. score: 7.5969648361206055\n",
      "Chosen Response:\n",
      " \n",
      "\n",
      "Human: What type of wine goes best with steak.\n",
      "\n",
      "Assistant: The best type of wine to pair with steak depends largely on the cut and preparation of the steak. Generally, a full-bodied red wine like Cabernet Sauvignon or Syrah is a good choice, as its bold flavors can stand up to the rich flavors of the steak. Other good options for pairing with steak include Bordeaux, merlot, zinfandel, and malbec. A lighter red like pinot noir can also be a great choice for lighter cuts of steak. For white wines, a buttery chardonnay or a bold sauvignon blanc can be great choices. A sparkling wine, such as Prosecco, can also go well with steak.\n",
      "selected---------\n",
      "\n",
      "\n",
      "Human: What type of wine goes best with steak.\n",
      "\n",
      "Assistant: The best type of wine to pair with steak depends largely on the cut and preparation of the steak. Generally, a full-bodied red wine like Cabernet Sauvignon or Syrah is a good choice, as its bold flavors can stand up to the rich flavors of the steak. Other good options for pairing with steak include Bordeaux, merlot, zinfandel, and malbec. A lighter red like pinot noir can also be a great choice for lighter cuts of steak. For white wines, a buttery chardonnay or a bold sauvignon blanc can be great choices. A sparkling wine, such as Prosecco, can also go well with steak. score: 8.975810050964355\n",
      "Chosen Response:\n",
      " \n",
      "\n",
      "Human: How do I know if this is a good investment.\n",
      "\n",
      "Assistant: Answer: To determine if an investment is a good one, it is important to consider the potential risks and rewards of the investment, as well as the cost, expected rate of return, and timeline involved in the investment. Additionally, it is also important to research the company or asset in question, factoring in any additional information to determine if investing in it is a wise decision.\n",
      "selected---------\n",
      "\n",
      "\n",
      "Human: How do I know if this is a good investment.\n",
      "\n",
      "Assistant: Answer: To determine if an investment is a good one, it is important to consider the potential risks and rewards of the investment, as well as the cost, expected rate of return, and timeline involved in the investment. Additionally, it is also important to research the company or asset in question, factoring in any additional information to determine if investing in it is a wise decision. score: 8.200397491455078\n",
      "Chosen Response:\n",
      " \n",
      "\n",
      "Human: Please provide me with some financial advice.\n",
      "\n",
      "Assistant: Some financial advice is to always pay yourself first. Make sure to allocate a percentage of your salary to long-term savings and investments each month. Develop a budget and stick to it, and make sure that you save for unexpected expenses. Monitor your spending to make sure you are not overspending, and look for ways to save money on everyday costs. Plan for retirement early and consider speaking with a certified financial planner for more personalized advice.\n",
      "selected---------\n",
      "\n",
      "\n",
      "Human: Please provide me with some financial advice.\n",
      "\n",
      "Assistant: Some financial advice is to always pay yourself first. Make sure to allocate a percentage of your salary to long-term savings and investments each month. Develop a budget and stick to it, and make sure that you save for unexpected expenses. Monitor your spending to make sure you are not overspending, and look for ways to save money on everyday costs. Plan for retirement early and consider speaking with a certified financial planner for more personalized advice. score: 9.326013565063477\n",
      "Chosen Response:\n",
      " \n",
      "\n",
      "Human: What kind of safety devices do I need to install in my house.\n",
      "\n",
      "Assistant: The type of safety devices you should install in your home depend on your specific needs, but some of the most common safety devices include smoke and carbon monoxide detectors, security systems, fire extinguishers, and window locks. Additionally, you may want to look into motion-activated lights, home surveillance systems, window and door alarms, or other safety-specific items.\n",
      "selected---------\n",
      "\n",
      "\n",
      "Human: What kind of safety devices do I need to install in my house.\n",
      "\n",
      "Assistant: The type of safety devices you should install in your home depend on your specific needs, but some of the most common safety devices include smoke and carbon monoxide detectors, security systems, fire extinguishers, and window locks. Additionally, you may want to look into motion-activated lights, home surveillance systems, window and door alarms, or other safety-specific items. score: 8.311620712280273\n",
      "Chosen Response:\n",
      " \n",
      "\n",
      "Human: How do I interpret the results of my blood test.\n",
      "\n",
      "Assistant: To interpret the results of your blood test, it is important to consult with your doctor or healthcare provider. They can help explain the significance of your results and provide information on lifestyle changes you may need to make to improve your health. Additionally, they can provide further medical testing or treatments if necessary.\n",
      "selected---------\n",
      "\n",
      "\n",
      "Human: How do I interpret the results of my blood test.\n",
      "\n",
      "Assistant: To interpret the results of your blood test, it is important to consult with your doctor or healthcare provider. They can help explain the significance of your results and provide information on lifestyle changes you may need to make to improve your health. Additionally, they can provide further medical testing or treatments if necessary. score: 8.783712387084961\n",
      "Chosen Response:\n",
      " \n",
      "\n",
      "Human: I'm having trouble finding the perfect job. What resources can help me.\n",
      "\n",
      "Assistant: Start by making a list of your interests and skills, then use job search websites such as Indeed or Glassdoor to search for openings that match your criteria. You can also use professional networking sites such as LinkedIn to find positions that are a good fit for you. Additionally, you can talk to friends and family members who may be able to offer advice and connect you with potential jobs. Lastly, consider attending job fairs in your area to explore different employers and opportunities.\n",
      "selected---------\n",
      "\n",
      "\n",
      "Human: I'm having trouble finding the perfect job. What resources can help me.\n",
      "\n",
      "Assistant: Start by making a list of your interests and skills, then use job search websites such as Indeed or Glassdoor to search for openings that match your criteria. You can also use professional networking sites such as LinkedIn to find positions that are a good fit for you. Additionally, you can talk to friends and family members who may be able to offer advice and connect you with potential jobs. Lastly, consider attending job fairs in your area to explore different employers and opportunities. score: 10.098763465881348\n",
      "Chosen Response:\n",
      " \n",
      "\n",
      "Human: What does a roux look like.\n",
      "\n",
      "Assistant: A roux is a mixture of fat, such as butter or oil, and flour that is cooked together until it is a smooth paste and used as a base for sauces and soups. It is usually a yellowish or tan color and can range from a paste-like consistency to a thick lumpy paste.\n",
      "selected---------\n",
      "\n",
      "\n",
      "Human: What does a roux look like.\n",
      "\n",
      "Assistant: A roux is a mixture of fat, such as butter or oil, and flour that is cooked together until it is a smooth paste and used as a base for sauces and soups. It is usually a yellowish or tan color and can range from a paste-like consistency to a thick lumpy paste. score: 3.852417230606079\n",
      "Chosen Response:\n",
      " \n",
      "\n",
      "Human: How to make money online.\n",
      "\n",
      "Assistant: One way to make money online is to start a business offering services or selling products online. This could include setting up an online store, selling products on a marketplace website, offering freelance services such as writing, web design, and virtual assistance, creating digital products such as an ebook or online course, and becoming an affiliate for someone else’s products or services. Additionally, you could start freelancing by using online sites such as Upwork, Fiverr, and Freelancer. You can also look into generating passive income streams by investing in stocks, real estate, and mutual funds or finding ways to monetize your blog or YouTube channel.\n",
      "selected---------\n",
      "\n",
      "\n",
      "Human: How to make money online.\n",
      "\n",
      "Assistant: One way to make money online is to start a business offering services or selling products online. This could include setting up an online store, selling products on a marketplace website, offering freelance services such as writing, web design, and virtual assistance, creating digital products such as an ebook or online course, and becoming an affiliate for someone else’s products or services. Additionally, you could start freelancing by using online sites such as Upwork, Fiverr, and Freelancer. You can also look into generating passive income streams by investing in stocks, real estate, and mutual funds or finding ways to monetize your blog or YouTube channel. score: 6.333303451538086\n",
      "Chosen Response:\n",
      " \n",
      "\n",
      "Human: What are some job options for engineering majors.\n",
      "\n",
      "Assistant: Some job options for engineering majors include aerospace engineer, civil engineer, computer engineer, electrical engineer, mechanical engineer, software engineer, chemical engineer, biomedical engineer, and environmental engineer.\n",
      "selected---------\n",
      "\n",
      "\n",
      "Human: What are some job options for engineering majors.\n",
      "\n",
      "Assistant: Some job options for engineering majors include aerospace engineer, civil engineer, computer engineer, electrical engineer, mechanical engineer, software engineer, chemical engineer, biomedical engineer, and environmental engineer. score: 4.58272647857666\n",
      "Accuracy: 1.0\n"
     ]
    }
   ],
   "source": [
    "# Define the number of samples to evaluate\n",
    "N = 10\n",
    "\n",
    "# Initialize a counter for correct selections\n",
    "correct_selections = 0\n",
    "\n",
    "# Iterate over the first N pairs of chosen and rejected responses\n",
    "for chosen, rejected in zip(train_str['chosen'][0:N], train_str['rejected'][0:N]):\n",
    "    # Print the chosen response for reference\n",
    "    print(\"Chosen Response:\\n\", chosen)\n",
    "    \n",
    "    # Use the compare_texts function to determine which response is better\n",
    "    selected_text = compare_texts(chosen, rejected)\n",
    "    \n",
    "    # Check if the selected text is the chosen response\n",
    "    if selected_text == chosen:\n",
    "        correct_selections += 1\n",
    "\n",
    "# Calculate the accuracy as the ratio of correct selections to the total number of samples\n",
    "accuracy = correct_selections / N\n",
    "\n",
    "# Print the accuracy\n",
    "print(\"Accuracy:\", accuracy)    "
   ]
  },
  {
   "cell_type": "markdown",
   "id": "dc8c9043-56d2-44aa-a47c-bfcded7e3fd9",
   "metadata": {},
   "source": [
    "## Exercise \n",
    "\n",
    "#### Evaluate model's preference accuracy on a different subset of data\n",
    "\n",
    "1. Define a new variable `K` to set the number of samples for evaluation from a different subset of the data.\n",
    "2. Initialize a counter to track the number of correct selections made by the model.\n",
    "3. Iterate over the `K` pairs of chosen and rejected responses from a different subset of the data set (for example, from the middle of the data set).\n",
    "4. For each pair, use the `compare_texts` function to determine which response is better.\n",
    "5. Count the number of times the model correctly identifies the chosen response.\n",
    "6. Calculate and print the accuracy of the model's preferences on this different subset.\n"
   ]
  },
  {
   "cell_type": "code",
   "execution_count": 43,
   "id": "10337635-e1e3-4942-a3fb-2229fba7f7f3",
   "metadata": {},
   "outputs": [
    {
     "name": "stdout",
     "output_type": "stream",
     "text": [
      "selected---------\n",
      "\n",
      "\n",
      "Human: What's the best way to store old wines.\n",
      "\n",
      "Assistant: The best way to store old wines is in a cool, dark place, away from direct sunlight and with temperatures that stay consistent. It is important to also ensure that the humidity levels are reasonably high, as this helps keep the cork moist. Finally, wine should always be stored on its side to keep the cork wet and prevent air from entering the bottle. score: 7.429324626922607\n",
      "selected---------\n",
      "\n",
      "\n",
      "Human: What kids activities can I do that link to geography.\n",
      "\n",
      "Assistant: One activity you can do with kids that link to geography is to make a map. Have them draw a map of their local area or even the world. They can use a variety of resources like books, online maps, and even globe ornaments. Talk about the features: rivers, mountains, cities, parks, and more. Give them a homework assignment to learn about some geographic area and then ask them to teach the class about that location. You can also bring in a variety of items to show the different geographic areas, such as a bag of rocks, a map of the world, coins from different countries, etc. Additionally, you can ask the kids to make a travel diary as if they had just visited a place. They can document their experience throughout their imagined journey – what people and landmarks they visited, what foods were tasted, and what photos were taken – all within the context of geography. score: 1.9843616485595703\n",
      "selected---------\n",
      "\n",
      "\n",
      "Human: How can I reheat food safely.\n",
      "\n",
      "Assistant: To reheat food safely, place the food in an oven-safe container and heat in the oven at 350°F for about 20 minutes. Alternatively, you can microwave the food in 30-second increments, stirring between each interval to ensure even heating. If reheating in a microwave, use a microwave-safe dish and cover the food to prevent splatter. Be sure to check the temperature of the reheated food before consuming. score: 8.226432800292969\n",
      "selected---------\n",
      "\n",
      "\n",
      "Human: What are some tips for creative writing.\n",
      "\n",
      "Assistant: Brainstorm ideas and explore different writing styles.\n",
      "2. Read often to stay inspired and observe different techniques.\n",
      "3. Start by writing about what you know and explore new topics.\n",
      "4. Make an outline to plan the structure of your story.\n",
      "5. Keep a writing journal to capture ideas and let your imagination flow.\n",
      "6. Write with your emotions and stay authentic to your voice.\n",
      "7. Develop realistic and dynamic characters with unique traits.\n",
      "8. Allow yourself to take risks and accept constructive criticism.\n",
      "9. Take regular breaks to create perspective and focus.\n",
      "10. Embrace imperfection and have fun exploring the craft of writing. score: 7.774438381195068\n",
      "selected---------\n",
      "\n",
      "\n",
      "Human: I need advice on how to start my own business.\n",
      "\n",
      "Assistant: Start by making a business plan. Outline your goals and sketch out a road map of how you will achieve them. Research the industry you’re entering and the competition, and be sure to price your products and services competitively. Also look into the legal steps needed to get your business off the ground. Create a list of potential customers and develop marketing strategies to reach them. Finally, make sure you have enough capital to cover your business in its early stages. Taking the time to plan and prepare will put you on the right path to success. score: 7.43953275680542\n",
      "selected---------\n",
      "\n",
      "\n",
      "Human: I'd like some tips for saving money on groceries.\n",
      "\n",
      "Assistant: Plan your meals ahead of time and create a grocery list to buy only what you need. \n",
      "2. Compare prices between different stores and brands.\n",
      "3. Buy items in bulk when it makes sense.\n",
      "4. Take advantage of coupons, rewards programs, and special promotions. \n",
      "5. Stock up on staples when they go on sale. \n",
      "6. Use a cashback app when shopping to get money back. \n",
      "7. Buy generic items instead of name brand items. \n",
      "8. Look for store discounts for buying multiple items. \n",
      "9. Buy fresh produce in season for the freshest and cheapest options.\n",
      "10. Buy store brand items whenever possible. score: 5.412580490112305\n",
      "selected---------\n",
      "\n",
      "\n",
      "Human: How can I make a holiday dinner on a budget.\n",
      "\n",
      "Assistant: One way to make a holiday dinner on a budget is to use items you already have in your kitchen. You can make a delicious dinner without spending a lot of money by getting creative with staples like rice, pasta, grains, and/or beans. Consider using cheaper cuts of meat or opting for vegetarian alternatives. Look for sales and discounts at your local grocery store or farmers' market, where you can purchase in-season fruits and vegetables at a lower price than other times of year. You can also use frozen and canned foods like soups, sauces, and vegetables to stretch your budget. Finally, check out websites like Budgetbytes.com, which gives step-by-step recipes that can help you create a delicious and budget-friendly holiday dinner. score: 10.122164726257324\n",
      "selected---------\n",
      "\n",
      "\n",
      "Human: I'm looking to sell some of my old clothes online. What tips can you offer me.\n",
      "\n",
      "Assistant: Take clear photographs of your clothes from various angles and make sure the lighting is good. \n",
      "2. Provide as much detail as possible in the description to set your clothes apart from the competition.\n",
      "3. Research current fashion trends and label accordingly.\n",
      "4. Be honest about the condition of the clothes so buyers will not be disappointed.\n",
      "5. Use online marketplaces like eBay and Etsy that are designed for selling clothes.\n",
      "6. Consider offering free shipping to attract customers.\n",
      "7. Charge a reasonable price that reflects the value and condition of your clothes. score: 5.848140239715576\n",
      "selected---------\n",
      "\n",
      "\n",
      "Human: How do I make sure a job interview goes smoothly.\n",
      "\n",
      "Assistant: To make sure a job interview goes smoothly, it's important to be prepared and confident. Make sure you have done your research about the company and the job position, have questions ready to ask the interviewer, dress professionally, and come with a positive attitude. Additionally, be sure to arrive to the interview on time and be polite and courteous to all the people you meet. Lastly, focus on the skills you can bring to the job and provide concrete examples of what you can do. score: 9.381330490112305\n",
      "selected---------\n",
      "\n",
      "\n",
      "Human: My friend is a home chef and he's looking for different recipes to try out. What can you suggest.\n",
      "\n",
      "Assistant: Thai Green Curry \n",
      "2  Chicken Tikka Masala \n",
      "3  Grilled Salmon with Lemon-Caper Sauce \n",
      "4  French Onion Soup \n",
      "5  Jalapeno Popper Pizza \n",
      "6  Pesto Lasagna \n",
      "7  Greek Salad with Feta \n",
      "8  Mexican Skillet Casserole \n",
      "9  Broccoli Macaroni and Cheese \n",
      "10  Stuffed Peppers with Rice and Cheese. score: 1.4549978971481323\n",
      "selected---------\n",
      "\n",
      "\n",
      "Human: I recently started a blog and I'm trying to figure out how to make it more successful. What are some strategies I can use.\n",
      "\n",
      "Assistant: Some strategies to make your blog more successful include: \n",
      "1. Implement SEO strategies, such as using keywords and backlinks.\n",
      "2. Offer content that is unique, engaging, and relevant to your intended audience.\n",
      "3. Consider guest blogging to build a higher profile.\n",
      "4. Engage with readers by responding to comments and questions.\n",
      "5. Regularly post content to keep readers interested and coming back.\n",
      "6. Analyze what’s working and what isn’t, then adjust accordingly. \n",
      "7. Create content in multiple formats, such as videos, articles, and graphics.\n",
      "8. Take advantage of social media by promoting your blog and connecting with followers.\n",
      "9. Make sure to have a visually appealing design, both on your blog and in other media.\n",
      "10. Utilize email marketing to keep your readers informed. score: 7.836836338043213\n",
      "selected---------\n",
      "\n",
      "\n",
      "Human: What are some ways to make my home smarter.\n",
      "\n",
      "Assistant: Some ways to make your home smarter include installing a smart home security system, adding voice-activated technology such as Google Home or Amazon Alexa, programming smart thermostats, dimmers and lighting controls, setting up automated appliances, adding video doorbells and smart locks, and integrating a smart home hub. score: 7.491303443908691\n",
      "selected---------\n",
      "\n",
      "\n",
      "Human: What are some good exercises for a beginner yoga class.\n",
      "\n",
      "Assistant: Some good exercises for a beginner yoga class include Child's Pose, Cat-Cow Pose, Downward Facing Dog, Forward Fold, Upward Facing Dog, Warrior 1, and Tree Pose. score: 4.580091953277588\n",
      "selected---------\n",
      "\n",
      "\n",
      "Human: What type of meditation should I do for calming my mind.\n",
      "\n",
      "Assistant: It depends on what you are looking for. If you are seeking relaxation, guided meditation or mindfulness meditation might be a good option. If you are looking to improve your focus and concentration, mantra meditation or Transcendental Meditation could be a good choice. Other types of meditation such as yoga, qigong, and tai chi may also be helpful in calming the mind. Experiment with different approaches and find what works best for you. score: 9.49771499633789\n",
      "selected---------\n",
      "\n",
      "\n",
      "Human: What is the best type of paint to use for a kitchen wall.\n",
      "\n",
      "Assistant: The best type of paint to use for a kitchen wall is a washable, eggshell, or satin finish. It is best to use a paint that is easy to clean and is resistant to stains and moisture. score: 4.70359992980957\n",
      "selected---------\n",
      "\n",
      "\n",
      "Human: What should I consider before signing up for a gym.\n",
      "\n",
      "Assistant: Before signing up for a gym, you should consider: \n",
      "1. The amenities and equipment that the gym offers.\n",
      "2. The cost for a membership and any additional fees.\n",
      "3. The hours of operation and the availability of classes.\n",
      "4. Whether the gym offers a trial membership or day fees.\n",
      "5. The proximity of the gym to your home or workplace.\n",
      "6. Any online reviews or ratings from previous members.\n",
      "7. Whether the gym has a professional staff available to answer questions or provide support.\n",
      "8. The availability of showers, lockers, and other amenities.\n",
      "9. Whether the gym membership includes access to other locations.\n",
      "10. The cleanliness of the facilities and any existing customer feedback. score: 7.444822311401367\n",
      "selected---------\n",
      "\n",
      "\n",
      "Human: What's the best way to remember complex formulas quickly.\n",
      "\n",
      "Assistant: The best way to remember complex formulas quickly is to practice them often and break them down into smaller parts that are easy to remember and visualize. Additionally, creating mnemonics or acronyms can help to quickly recall the formulas. Finally, associating formulas with real world examples can make them easier to remember. score: 9.438467025756836\n",
      "selected---------\n",
      "\n",
      "\n",
      "Human: What are the benefits of having a fitness routine.\n",
      "\n",
      "Assistant: The benefits of having a fitness routine include increased energy levels, improved mood, weight loss, increased strength and endurance, improved cardiovascular health, and reduced risk of chronic diseases. Additionally, having a fitness routine can help to promote better sleep and reduce stress. score: 8.927010536193848\n",
      "selected---------\n",
      "\n",
      "\n",
      "Human: What are the environmental impacts of buying fast fashion.\n",
      "\n",
      "Assistant: The environmental impacts of buying fast fashion are wide-ranging and extensive. Fast fashion production typically uses synthetic materials that require a great deal of energy to produce and generate significant amounts of greenhouse gases and other pollutants. Additionally, fast fashion production uses large amounts of water, often resulting in water pollution and scarcity in the surrounding area. After being produced, fast fashion garments often travel long distances and generate a lot of waste as they are made, packaged and distributed. Finally, due to their often poor quality, fast fashion garments have a short lifespan and are rarely recycled or reused, creating an immense amount of textile waste, with serious environmental implications. score: 7.839686393737793\n",
      "selected---------\n",
      "\n",
      "\n",
      "Human: Is drinking green tea good for my health.\n",
      "\n",
      "Assistant: Yes, drinking green tea is good for your health. It contains antioxidants, which can help boost your immunity, improve metabolism, and reduce the risk of certain types of cancer. Green tea also contains beneficial compounds like epigallocatechin gallate (EGCG) that can help protect your heart, reduce inflammation, and improve mental alertness. score: 7.587920188903809\n",
      "selected---------\n",
      "\n",
      "\n",
      "Human: What are the tax implications of investing in real estate.\n",
      "\n",
      "Assistant: The tax implications of investing in real estate vary depending on the type of property you purchase and the form of ownership you choose. Generally, gains from the sale of real estate are subject to capital gains taxes in most countries, while income from renting out real estate may be subject to income tax. Additionally, you may be required to pay property tax and other local taxes, depending on the region or municipality. It is advisable to seek professional advice concerning any tax implications associated with investing in real estate. score: 9.334282875061035\n",
      "selected---------\n",
      "\n",
      "\n",
      "Human: What are the main types of financial instruments.\n",
      "\n",
      "Assistant: The main types of financial instruments include stocks, bonds, derivatives, mutual funds, commodities, currencies, and insurance products. score: 5.285991668701172\n",
      "selected---------\n",
      "\n",
      "\n",
      "Human: What is the most popular podcast right now.\n",
      "\n",
      "Assistant: The most popular podcast right now is The Joe Rogan Experience. score: -4.428396224975586\n",
      "selected---------\n",
      "\n",
      "\n",
      "Human: What is the most advanced artificial intelligence right now.\n",
      "\n",
      "Assistant: The most advanced artificial intelligence right now is most likely deep learning technology. Deep learning utilizes neural networks to learn complex patterns in large amounts of data, enabling machines to make decisions that are analogous to those made by humans. score: 2.0038845539093018\n",
      "selected---------\n",
      "\n",
      "\n",
      "Human: What are the common symptoms of a cold.\n",
      "\n",
      "Assistant: Common symptoms of a cold include a sore throat, runny nose, coughing, sneezing, fatigue, body aches and a fever. score: 4.078731060028076\n",
      "selected---------\n",
      "\n",
      "\n",
      "Human: How to I go about organizing a small event for my friends in the current world climate.\n",
      "\n",
      "Assistant: In the current world climate, it is important to consider the health and safety of both yourself and your friends before planning an event. The best practice for organizing a small event would be to adhere to the local health guidelines and social distancing practices that are recommended in your area. You could consider an outdoor event where physical distancing is possible, such as a picnic or a barbecue. If you decide to have an indoor event, you may want to limit the number of people attending, encourage everyone to wear masks, and keep the gathering short. Additionally, you could provide hand sanitizer and hygiene items to ensure the safety of your guests. score: 8.604766845703125\n",
      "selected---------\n",
      "\n",
      "\n",
      "Human: How can I make myself a better person.\n",
      "\n",
      "Assistant: One way to make yourself a better person is to set achievable goals for yourself and work towards them each day. Focus on improving yourself in areas such as self-discipline, communication, and problem-solving skills. Additionally, strive to be kind and understanding of others, as well as being honest and loyal in all interactions. Finally, take some time to reflect and appreciate the progress you have made, and remember to strive for personal growth no matter how small or insignificant it may seem at first. score: 9.669005393981934\n",
      "selected---------\n",
      "\n",
      "\n",
      "Human: What is the best practice to follow when interviewing for a job.\n",
      "\n",
      "Assistant: The best practice to follow when interviewing for a job is to be prepared and be yourself. Research the company extensively to understand the job requirements, mission, and culture. Be organized and come prepared with multiple copies of your resume and examples of your accomplishments. Additionally, be communicative and express enthusiasm. Be confident but not overly assertive, and be sure to follow up after the meeting. score: 10.098116874694824\n",
      "selected---------\n",
      "\n",
      "\n",
      "Human: How do I research a new hobby I'm interested in.\n",
      "\n",
      "Assistant: Start by doing a basic online search for the hobby that you are interested in. Look for websites and resources that provide information about the hobby. \n",
      "\n",
      "2  Read descriptions of the hobby and find out what skills and materials you need in order to participate in it. \n",
      "\n",
      "3  Reach out to people who already practice the hobby and ask them questions about it. Check out hobby-related forums or discussion boards where people can share tips and advice.\n",
      "\n",
      "4  Watch videos and tutorials about the hobby. Join online communities dedicated to it and learn from experienced hobbyists. \n",
      "\n",
      "5  Research your local area for available classes or join a club or organization related to the hobby. Visit stores and shops that specialize in the hobby to get supplies and equipment. \n",
      "\n",
      "6  Experiment and explore different ways of practicing the hobby. Try to find resources that will help you track your progress and reach your goals. score: 9.735803604125977\n",
      "selected---------\n",
      "\n",
      "\n",
      "Human: How can I find a therapist that I can trust and is well suited to my needs.\n",
      "\n",
      "Assistant: One way to find a therapist that you can trust and is well suited to your needs is to do your research. Look for reviews online, ask friends and family for recommendations, and contact local therapists to ask questions and see if they would be a good fit. You can also consider asking your doctor or primary care provider for referrals, as they may have a better understanding of your needs and be able to suggest an appropriate therapist for you. score: 9.298206329345703\n",
      "selected---------\n",
      "\n",
      "\n",
      "Human: What is the best way to get rid of bugs in a houseplant.\n",
      "\n",
      "Assistant: The best way to get rid of bugs in a houseplant is to use a safe and natural insecticide such as neem oil or horticultural oil. Be sure to follow the instructions on the product label to ensure safe and effective use. Additionally, prune off affected branches and leaves and dispose of them away from the plant. For further prevention, ensure the plant is receiving enough light and water and that the soil is aerated to allow for adequate drainage. score: 8.796866416931152\n",
      "selected---------\n",
      "\n",
      "\n",
      "Human: How can I organize my desk space optimally.\n",
      "\n",
      "Assistant: One way to organize your desk space optimally is to divide up the space into zones for different activities, such as a space for writing and a space for computing. You can also use storage containers, shelves, and drawers to organize and store items, as well as use desk organizers to keep paperwork or other items arranged in an orderly fashion. You should also consider the desk layout and positioning of the items on your desk to make the most efficient use of your space. score: 9.419227600097656\n",
      "selected---------\n",
      "\n",
      "\n",
      "Human: How can I improve my public speaking skills.\n",
      "\n",
      "Assistant: One way to improve your public speaking skills is to practice as often as possible. Start by giving presentations in front of friends or family and gradually build up your confidence by presenting in front of larger groups. Practice making eye contact with your audience and speaking clearly and loudly. You may also want to research and become familiar with the topic you are going to speak about. Finally, take some time to visualize yourself talking confidently and successfully during the presentation. score: 9.557394027709961\n",
      "selected---------\n",
      "\n",
      "\n",
      "Human: What is the latest updates on developments in artificial intelligence.\n",
      "\n",
      "Assistant: According to recent reports, advancements in artificial intelligence are rapidly being made. Researchers have developed new techniques for enabling machines to analyze large amounts of data, as well as to become more intelligent in tasks such as natural language processing, image recognition, and self-driving cars. Additionally, new AI technologies are being used to solve complex problems such as helping reduce energy consumption and improving healthcare delivery. It is evident that AI is revolutionizing the way businesses and people interact with the world. score: 6.883415222167969\n",
      "selected---------\n",
      "\n",
      "\n",
      "Human: What is a low-cost way to travel Europe.\n",
      "\n",
      "Assistant: A great way to travel Europe on a budget is to take advantage of budget airlines like Ryanair, EasyJet, and WizzAir, which offer affordable flights between many cities throughout Europe. Additionally, using public transportation such as trains and buses can help you save money while exploring the continent. Staying in hostels and taking free walking tours can also be great cost-saving options. score: 10.405323028564453\n",
      "selected---------\n",
      "\n",
      "\n",
      "Human: What is the insect repellent that is most effective.\n",
      "\n",
      "Assistant: The most effective insect repellent is DEET. It has been proven to be the best at repelling insects for up to 8 hours. score: 0.7074573636054993\n",
      "selected---------\n",
      "\n",
      "\n",
      "Human: I'm looking for advice on starting a small business.\n",
      "\n",
      "Assistant: One of the best pieces of advice for starting a small business is to create a business plan. A business plan helps you develop a clear strategy for how you want to grow your business. It also keeps you organized and on track as you start your business. Additionally, a business plan can help you secure financing from investors or lenders. Finally, make sure that you research the market before starting your business and know your competitors. Good luck. score: 9.195564270019531\n",
      "selected---------\n",
      "\n",
      "\n",
      "Human: What's the best way to back up my computer data.\n",
      "\n",
      "Assistant: The best way to back up your computer data is to use an external hard drive or cloud storage services such as Google Drive or Dropbox. Regular backups should be done to ensure that all of your important files are securely stored. Additionally, it's important to check that your backups are working properly to prevent any data loss. score: 8.917932510375977\n",
      "selected---------\n",
      "\n",
      "\n",
      "Human: I'm trying to find a good place to watch a movie.\n",
      "\n",
      "Assistant: A good place to watch a movie is a movie theater. Many theaters offer comfortable seating, state-of-the-art audio and video equipment, as well as concessions like popcorn, candy and beverages. Some theaters also offer rewards programs and special discounts. Alternatively, you could consider opting for a night at home and ordering a movie through a streaming service like Netflix or Hulu. score: 8.771514892578125\n",
      "selected---------\n",
      "\n",
      "\n",
      "Human: What is the most secure way to store financial information.\n",
      "\n",
      "Assistant: The most secure way to store financial information is to encrypt it using a reliable and secure encryption software, such as AES-256 encryption. Additionally, it is important to store the data in a secure storage system and use strong passwords to protect access. Finally, ensure that backups are made so that the data can be quickly recovered in the event of a breach. score: 8.421820640563965\n",
      "selected---------\n",
      "\n",
      "\n",
      "Human: How do I apply for a passport in the USA.\n",
      "\n",
      "Assistant: In order to apply for a passport in the United States, you will need to submit a passport application form, proof of citizenship, and a valid form of identification. You can find the necessary forms on the U.S. State Department website and submit them either via mail or in person to a passport office or acceptance facility. Depending on the type of passport you are applying for, you may also need to provide a passport photo. score: 5.374748229980469\n",
      "selected---------\n",
      "\n",
      "\n",
      "Human: How do I make an easy 5-ingredient guacamole.\n",
      "\n",
      "Assistant: To make an easy 5-ingredient guacamole, you will need 2 avocados, 1/4 cup diced onion, 1/4 cup diced tomatoes, 1/4 teaspoon garlic powder and 2 tablespoons of lime juice. Begin by mashing the avocados in a bowl, then add all the other diced ingredients, garlic powder and lime juice. Mix all the ingredients together until evenly distributed and serve your homemade guacamole with your favorite chips or veggies. Enjoy. score: 9.103057861328125\n",
      "selected---------\n",
      "\n",
      "\n",
      "Human: What are some important tips for going on a long road trip.\n",
      "\n",
      "Assistant: Make sure your car is in good working condition before going on a long road trip, doing a full inspection and maintenance check. \n",
      "2. Always plan ahead and make sure you have a good roadmap or navigation system. \n",
      "3. Have plenty of snacks and drinks for your trip. \n",
      "4. Pack an emergency kit with items like a first-aid kit, flashlights, jumper cables, blankets, and lots of water.\n",
      "5. If you are driving a long distance, take frequent breaks to get some rest and move around.\n",
      "6. Make sure your smartphone is fully charged and bring a phone charger, just in case. \n",
      "7. Check the weather in your route and plan accordingly. \n",
      "8. Let someone else know your route and approximate arrival time. score: 4.62462854385376\n",
      "selected---------\n",
      "\n",
      "\n",
      "Human: Where are the best places to find vegan friendly restaurants in New York City.\n",
      "\n",
      "Assistant: The best places to find vegan friendly restaurants in New York City are in popular vegan hotspots such as the East Village, Greenwich Village, Williamsburg, and Astoria. Other popular vegan restaurants throughout the city can be found in Harlem, the Lower East Side, Chelsea, and Chinatown. score: 8.186976432800293\n",
      "selected---------\n",
      "\n",
      "\n",
      "Human: What are the main components of a computer and how do they work together.\n",
      "\n",
      "Assistant: The main components of a computer are the processor, motherboard, memory, storage, power supply, display, and peripherals. The processor is the central processing unit of the computer, responsible for interpreting and executing instructions. The motherboard serves as a base for these components, providing power and a communication pathway for data transfer. Memory is used to store information that is temporarily used by the processor. Storage holds data and programs more permanently. The power supply converts alternating current from a power outlet to direct current that the computer can use, and the display is the visual output of the computer. The peripherals are the input and output devices, such as the keyboard, mouse, printer, and microphone, which allow the user to interact with the computer. All of these components work together to receive, process, and store information as instructed by the user. score: 8.950482368469238\n",
      "selected---------\n",
      "\n",
      "\n",
      "Human: Based on my credit score, what types of credit card and loan offers can I get.\n",
      "\n",
      "Assistant: A variety of options, including lower interest loans and credit card offers, that might be a good start, but you should speak with a credit expert. You can also share the information with a credit advisor to obtain an estimate of any future costs. score: 6.935846328735352\n",
      "selected---------\n",
      "\n",
      "\n",
      "Human: Does the size of a company and a company's budget determine the type of marketing they should do.\n",
      "\n",
      "Assistant: The size of a company and its budget can certainly be influential in determining the marketing strategies and tactics it should pursue. However, there are other factors to consider, such as the target audience, the company's objectives and goals, and available resources. Ultimately, a company should consider all of these elements to develop an effective marketing plan that meets its unique needs and goals. score: 9.48695182800293\n",
      "selected---------\n",
      "\n",
      "\n",
      "Human: I'm planning a big family reunion with relatives from out of town. How can I make sure that no one feels left out.\n",
      "\n",
      "Assistant: One way to make sure no one feels left out is to plan structured activities that everyone can take part in. This could include team-building games, icebreakers, or family-oriented games. Another idea could be to assign each family member a job, such as organizing the food, setting up decorations, or helping with activities. Doing this gives everyone a sense of belonging and purpose, helping them to feel included. You could also provide opportunities to be social, like group meals, or one-on-one conversations to get to know each other better. Finally, take the time to appreciate each family member, and ask open-ended questions that invite conversation. By creating an inviting and inclusive atmosphere, everyone will feel welcome and appreciated. score: 8.570703506469727\n",
      "selected---------\n",
      "\n",
      "\n",
      "Human: Is it better for my health to exercise for 20 minutes in the morning or take a break during the day for a 10 minute walk.\n",
      "\n",
      "Assistant: It's hard to say which is better for your health without knowing your specific health goals and lifestyle. However, both activities can be beneficial in different ways. Exercising for 20 minutes in the morning can give you a burst of energy and help set the tone for the rest of your day, while taking a short 10 minute walk during the day can provide a break from work and help you refocus and relax. Ultimately, it comes down to what works best for you and your individual needs. score: 8.559496879577637\n",
      "selected---------\n",
      "\n",
      "\n",
      "Human: Are there any online courses that I can take that would help me become a better leader.\n",
      "\n",
      "Assistant: Yes, there are many online courses that can help you become a better leader. You can find courses on topics such as communication, conflict resolution, team building, decision making, problem solving, goal setting, and more. score: 0.24413657188415527\n",
      "Accuracy on different subset: 0.98\n"
     ]
    }
   ],
   "source": [
    "# Write your code here\n",
    "\n",
    "# Define the number of samples to evaluate from a different subset\n",
    "K = 50\n",
    "\n",
    "# Initialize a counter for correct selections\n",
    "correct_selections = 0\n",
    "\n",
    "# Determine the starting index for the different subset (e.g., middle of the dataset)\n",
    "start_index = len(train_str['chosen']) // 2\n",
    "\n",
    "# Iterate over K pairs of chosen and rejected responses from the different subset\n",
    "for chosen, rejected in zip(train_str['chosen'][start_index:start_index + K], train_str['rejected'][start_index:start_index + K]):\n",
    "    # Use the compare_texts function to determine which response is better\n",
    "    selected_text = compare_texts(chosen, rejected)\n",
    "    \n",
    "    # Check if the selected text is the chosen response\n",
    "    if selected_text == chosen:\n",
    "        correct_selections += 1\n",
    "\n",
    "# Calculate the accuracy as the ratio of correct selections to the total number of samples\n",
    "accuracy = correct_selections / K\n",
    "\n",
    "# Print the accuracy\n",
    "print(\"Accuracy on different subset:\", accuracy)"
   ]
  },
  {
   "cell_type": "markdown",
   "id": "dde3e6a4-35eb-4dc4-a63a-1c8f2c91f87f",
   "metadata": {},
   "source": [
    "# Congratulations! You have completed the lab\n"
   ]
  },
  {
   "cell_type": "markdown",
   "id": "b1aca53c-3452-47a7-86e1-b0f85877b183",
   "metadata": {},
   "source": [
    "## Authors\n",
    "\n",
    "[Joseph Santarcangelo](https://author.skills.network/instructors/joseph_santarcangelo) has a Ph.D. in Electrical Engineering, his research focused on using machine learning, signal processing, and computer vision to determine how videos impact human cognition. Joseph has been working for IBM since he completed his PhD.\n",
    "\n",
    "[Ashutosh Sagar](https://www.linkedin.com/in/ashutoshsagar/) is completing his MS in CS from Dalhousie University. He has previous experience working with Natural Language Processing and as a Data Scientist.\n"
   ]
  },
  {
   "cell_type": "markdown",
   "id": "fec4efff-467d-4451-b015-973d0ba78213",
   "metadata": {},
   "source": [
    "## Other Contributors\n",
    "\n",
    "[Hailey Quach](https://author.skills.network/instructors/hailey_quach) is a Data Scientist at IBM. She's completing her Bsc, Honors in Computer Science at Concordia University, Montreal.\n",
    "\n",
    "[Wojciech \"Victor\" Fulmyk](https://www.linkedin.com/in/wfulmyk) is a Data Scientist at IBM and a PhD student in Economics at the University of Calgary. \n"
   ]
  },
  {
   "cell_type": "markdown",
   "id": "b3e3a523-cd3e-42bb-8f2f-84b8e3fae464",
   "metadata": {},
   "source": [
    "© Copyright IBM Corporation. All rights reserved.\n"
   ]
  }
 ],
 "metadata": {
  "kernelspec": {
   "display_name": ".venv",
   "language": "python",
   "name": "python3"
  },
  "language_info": {
   "codemirror_mode": {
    "name": "ipython",
    "version": 3
   },
   "file_extension": ".py",
   "mimetype": "text/x-python",
   "name": "python",
   "nbconvert_exporter": "python",
   "pygments_lexer": "ipython3",
   "version": "3.11.9"
  },
  "prev_pub_hash": "ad577ec58a1de1656cc0c9c249f84e1d2a31ff41f7a9a1493f5ffe94939116ae"
 },
 "nbformat": 4,
 "nbformat_minor": 4
}
