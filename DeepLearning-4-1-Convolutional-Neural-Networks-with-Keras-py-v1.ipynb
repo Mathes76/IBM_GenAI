{
 "cells": [
  {
   "cell_type": "markdown",
   "metadata": {},
   "source": [
    "<a href=\"https://cognitiveclass.ai\"><img src=\"https://cf-courses-data.s3.us.cloud-object-storage.appdomain.cloud/IBMDeveloperSkillsNetwork-DL0101EN-SkillsNetwork/images/IDSN-logo.png\" width=\"400\"> </a>\n",
    "\n",
    "# Convolutional Neural Networks with Keras\n",
    "\n",
    "Estimated time needed **30** mins\n"
   ]
  },
  {
   "cell_type": "markdown",
   "metadata": {},
   "source": [
    "In this lab, we will learn how to use the Keras library to build convolutional neural networks. We will also use the popular MNIST dataset and we will compare our results to using a conventional neural network.\n"
   ]
  },
  {
   "cell_type": "markdown",
   "metadata": {},
   "source": [
    "## Objectives for this Notebook    \n",
    "* How to use the Keras library to build convolutional neural networks\n",
    "* Convolutional neural network with one set of convolutional and pooling layers\n",
    "* Convolutional neural network with two sets of convolutional and pooling layers\n",
    "\n"
   ]
  },
  {
   "cell_type": "markdown",
   "metadata": {},
   "source": [
    "## Table of Contents\n",
    "\n",
    "<div class=\"alert alert-block alert-info\" style=\"margin-top: 20px\">\n",
    "\n",
    "<font size = 3>\n",
    "      \n",
    "1. <a href=\"#Import-Keras-and-Packages\">Import Keras and Packages</a>   \n",
    "2. <a href=\"#Convolutional-Neural-Network-with-One-Set-of-Convolutional-and-Pooling-Layers\">Convolutional Neural Network with One Set of Convolutional and Pooling Layers</a>  \n",
    "3. <a href=\"#Convolutional-Neural-Network-with-Two-Sets-of-Convolutional-and-Pooling-Layers\">Convolutional Neural Network with Two Sets of Convolutional and Pooling Layers</a>  \n",
    "\n",
    "</font>\n",
    "</div>\n"
   ]
  },
  {
   "cell_type": "markdown",
   "metadata": {},
   "source": [
    "### Install the necessary libraries\n"
   ]
  },
  {
   "cell_type": "markdown",
   "metadata": {},
   "source": [
    "Let's start by installing the keras libraries and the packages that we would need to build a neural network.\n"
   ]
  },
  {
   "cell_type": "code",
   "execution_count": 1,
   "metadata": {},
   "outputs": [],
   "source": [
    "# All Libraries required for this lab are listed below. The libraries need to be installed on Skills Network Labs. \n",
    "# If you run this notebook on a different environment, e.g. your desktop, you may want to install these.\n",
    "# !pip install numpy==1.26.4\n",
    "# !pip install pandas==2.1.1\n",
    "# !pip install tensorflow_cpu==2.16.1\n",
    "# !pip install matplotlib==3.9.2"
   ]
  },
  {
   "cell_type": "markdown",
   "metadata": {},
   "source": [
    "#### Suppress the tensorflow warning messages\n",
    "We use the following code to  suppress the warning messages due to use of CPU architechture for tensoflow.\n",
    "You may want to **comment out** these lines if you are using the GPU architechture\n"
   ]
  },
  {
   "cell_type": "code",
   "execution_count": 2,
   "metadata": {},
   "outputs": [],
   "source": [
    "import os\n",
    "os.environ['TF_ENABLE_ONEDNN_OPTS'] = '0'\n",
    "os.environ['TF_CPP_MIN_LOG_LEVEL'] = '2'"
   ]
  },
  {
   "cell_type": "markdown",
   "metadata": {},
   "source": [
    "## Import Keras and Packages\n"
   ]
  },
  {
   "cell_type": "code",
   "execution_count": 3,
   "metadata": {},
   "outputs": [],
   "source": [
    "import keras\n",
    "from keras.models import Sequential\n",
    "from keras.layers import Dense\n",
    "from keras.layers import Input\n",
    "from keras.utils import to_categorical"
   ]
  },
  {
   "cell_type": "markdown",
   "metadata": {},
   "source": [
    "When working with convolutional neural networks in particular, we will need additional packages.\n"
   ]
  },
  {
   "cell_type": "code",
   "execution_count": 4,
   "metadata": {},
   "outputs": [],
   "source": [
    "from keras.layers import Conv2D # to add convolutional layers\n",
    "from keras.layers import MaxPooling2D # to add pooling layers\n",
    "from keras.layers import Flatten # to flatten data for fully connected layers"
   ]
  },
  {
   "cell_type": "markdown",
   "metadata": {},
   "source": [
    "## Convolutional Neural Network with One Set of Convolutional and Pooling Layers\n"
   ]
  },
  {
   "cell_type": "code",
   "execution_count": 5,
   "metadata": {},
   "outputs": [],
   "source": [
    "# import data\n",
    "from keras.datasets import mnist\n",
    "\n",
    "# load data\n",
    "(X_train, y_train), (X_test, y_test) = mnist.load_data()\n",
    "\n",
    "# reshape to be [samples][pixels][width][height]\n",
    "X_train = X_train.reshape(X_train.shape[0], 28, 28, 1).astype('float32')\n",
    "X_test = X_test.reshape(X_test.shape[0], 28, 28, 1).astype('float32')"
   ]
  },
  {
   "cell_type": "markdown",
   "metadata": {},
   "source": [
    "Let's normalize the pixel values to be between 0 and 1\n"
   ]
  },
  {
   "cell_type": "code",
   "execution_count": 6,
   "metadata": {},
   "outputs": [],
   "source": [
    "X_train = X_train / 255 # normalize training data\n",
    "X_test = X_test / 255 # normalize test data"
   ]
  },
  {
   "cell_type": "markdown",
   "metadata": {},
   "source": [
    "Next, let's convert the target variable into binary categories\n"
   ]
  },
  {
   "cell_type": "code",
   "execution_count": 7,
   "metadata": {},
   "outputs": [],
   "source": [
    "y_train = to_categorical(y_train)\n",
    "y_test = to_categorical(y_test)\n",
    "\n",
    "num_classes = y_test.shape[1] # number of categories"
   ]
  },
  {
   "cell_type": "markdown",
   "metadata": {},
   "source": [
    "Next, let's define a function that creates our model. Let's start with one set of convolutional and pooling layers.\n"
   ]
  },
  {
   "cell_type": "code",
   "execution_count": 8,
   "metadata": {},
   "outputs": [],
   "source": [
    "def convolutional_model():\n",
    "    \n",
    "    # create model\n",
    "    model = Sequential()\n",
    "    model.add(Input(shape=(28, 28, 1)))\n",
    "    model.add(Conv2D(16, (5, 5), strides=(1, 1), activation='relu'))\n",
    "    model.add(MaxPooling2D(pool_size=(2, 2), strides=(2, 2)))\n",
    "    \n",
    "    model.add(Flatten())\n",
    "    model.add(Dense(100, activation='relu'))\n",
    "    model.add(Dense(num_classes, activation='softmax'))\n",
    "    \n",
    "    # compile model\n",
    "    model.compile(optimizer='adam', loss='categorical_crossentropy',  metrics=['accuracy'])\n",
    "    return model"
   ]
  },
  {
   "cell_type": "markdown",
   "metadata": {},
   "source": [
    "Finally, let's call the function to create the model, and then let's train it and evaluate it.\n"
   ]
  },
  {
   "cell_type": "code",
   "execution_count": 9,
   "metadata": {},
   "outputs": [
    {
     "name": "stdout",
     "output_type": "stream",
     "text": [
      "Epoch 1/10\n",
      "300/300 - 8s - 26ms/step - accuracy: 0.9196 - loss: 0.2825 - val_accuracy: 0.9731 - val_loss: 0.0935\n",
      "Epoch 2/10\n",
      "300/300 - 7s - 22ms/step - accuracy: 0.9759 - loss: 0.0852 - val_accuracy: 0.9815 - val_loss: 0.0606\n",
      "Epoch 3/10\n",
      "300/300 - 7s - 22ms/step - accuracy: 0.9838 - loss: 0.0562 - val_accuracy: 0.9843 - val_loss: 0.0480\n",
      "Epoch 4/10\n",
      "300/300 - 6s - 22ms/step - accuracy: 0.9869 - loss: 0.0446 - val_accuracy: 0.9866 - val_loss: 0.0403\n",
      "Epoch 5/10\n",
      "300/300 - 6s - 20ms/step - accuracy: 0.9895 - loss: 0.0360 - val_accuracy: 0.9873 - val_loss: 0.0382\n",
      "Epoch 6/10\n",
      "300/300 - 6s - 20ms/step - accuracy: 0.9906 - loss: 0.0304 - val_accuracy: 0.9870 - val_loss: 0.0404\n",
      "Epoch 7/10\n",
      "300/300 - 6s - 20ms/step - accuracy: 0.9925 - loss: 0.0245 - val_accuracy: 0.9883 - val_loss: 0.0362\n",
      "Epoch 8/10\n",
      "300/300 - 6s - 20ms/step - accuracy: 0.9940 - loss: 0.0203 - val_accuracy: 0.9883 - val_loss: 0.0367\n",
      "Epoch 9/10\n",
      "300/300 - 6s - 20ms/step - accuracy: 0.9948 - loss: 0.0171 - val_accuracy: 0.9888 - val_loss: 0.0372\n",
      "Epoch 10/10\n",
      "300/300 - 6s - 20ms/step - accuracy: 0.9962 - loss: 0.0140 - val_accuracy: 0.9862 - val_loss: 0.0420\n",
      "Accuracy: 0.9861999750137329 \n",
      " Error: 1.380002498626709\n"
     ]
    }
   ],
   "source": [
    "# build the model\n",
    "model = convolutional_model()\n",
    "\n",
    "# fit the model\n",
    "model.fit(X_train, y_train, validation_data=(X_test, y_test), epochs=10, batch_size=200, verbose=2)\n",
    "\n",
    "# evaluate the model\n",
    "scores = model.evaluate(X_test, y_test, verbose=0)\n",
    "print(\"Accuracy: {} \\n Error: {}\".format(scores[1], 100-scores[1]*100))"
   ]
  },
  {
   "cell_type": "markdown",
   "metadata": {},
   "source": [
    "------------------------------------------\n"
   ]
  },
  {
   "cell_type": "markdown",
   "metadata": {},
   "source": [
    "## Convolutional Neural Network with Two Sets of Convolutional and Pooling Layers\n"
   ]
  },
  {
   "cell_type": "markdown",
   "metadata": {},
   "source": [
    "Let's redefine our convolutional model so that it has two convolutional and pooling layers instead of just one layer of each.\n"
   ]
  },
  {
   "cell_type": "code",
   "execution_count": 10,
   "metadata": {},
   "outputs": [],
   "source": [
    "def convolutional_model():\n",
    "    \n",
    "    # create model\n",
    "    model = Sequential()\n",
    "    model.add(Input(shape=(28, 28, 1)))\n",
    "    model.add(Conv2D(16, (5, 5), activation='relu'))\n",
    "    model.add(MaxPooling2D(pool_size=(2, 2), strides=(2, 2)))\n",
    "    \n",
    "    model.add(Conv2D(8, (2, 2), activation='relu'))\n",
    "    model.add(MaxPooling2D(pool_size=(2, 2), strides=(2, 2)))\n",
    "    \n",
    "    model.add(Flatten())\n",
    "    model.add(Dense(100, activation='relu'))\n",
    "    model.add(Dense(num_classes, activation='softmax'))\n",
    "    \n",
    "    # Compile model\n",
    "    model.compile(optimizer='adam', loss='categorical_crossentropy',  metrics=['accuracy'])\n",
    "    return model"
   ]
  },
  {
   "cell_type": "markdown",
   "metadata": {},
   "source": [
    "Now, let's call the function to create our new convolutional neural network, and then let's train it and evaluate it.\n"
   ]
  },
  {
   "cell_type": "code",
   "execution_count": 11,
   "metadata": {},
   "outputs": [
    {
     "name": "stdout",
     "output_type": "stream",
     "text": [
      "Epoch 1/10\n",
      "300/300 - 8s - 27ms/step - accuracy: 0.8640 - loss: 0.4794 - val_accuracy: 0.9559 - val_loss: 0.1421\n",
      "Epoch 2/10\n",
      "300/300 - 7s - 23ms/step - accuracy: 0.9614 - loss: 0.1261 - val_accuracy: 0.9706 - val_loss: 0.0944\n",
      "Epoch 3/10\n",
      "300/300 - 7s - 23ms/step - accuracy: 0.9733 - loss: 0.0884 - val_accuracy: 0.9785 - val_loss: 0.0682\n",
      "Epoch 4/10\n",
      "300/300 - 7s - 22ms/step - accuracy: 0.9782 - loss: 0.0709 - val_accuracy: 0.9803 - val_loss: 0.0649\n",
      "Epoch 5/10\n",
      "300/300 - 7s - 23ms/step - accuracy: 0.9816 - loss: 0.0597 - val_accuracy: 0.9827 - val_loss: 0.0540\n",
      "Epoch 6/10\n",
      "300/300 - 7s - 23ms/step - accuracy: 0.9836 - loss: 0.0533 - val_accuracy: 0.9846 - val_loss: 0.0473\n",
      "Epoch 7/10\n",
      "300/300 - 7s - 23ms/step - accuracy: 0.9855 - loss: 0.0468 - val_accuracy: 0.9843 - val_loss: 0.0485\n",
      "Epoch 8/10\n",
      "300/300 - 7s - 23ms/step - accuracy: 0.9872 - loss: 0.0414 - val_accuracy: 0.9849 - val_loss: 0.0439\n",
      "Epoch 9/10\n",
      "300/300 - 7s - 23ms/step - accuracy: 0.9885 - loss: 0.0373 - val_accuracy: 0.9868 - val_loss: 0.0417\n",
      "Epoch 10/10\n",
      "300/300 - 7s - 23ms/step - accuracy: 0.9890 - loss: 0.0351 - val_accuracy: 0.9852 - val_loss: 0.0446\n",
      "Accuracy: 0.9851999878883362 \n",
      " Error: 1.4800012111663818\n"
     ]
    }
   ],
   "source": [
    "# build the model\n",
    "model = convolutional_model()\n",
    "\n",
    "# fit the model\n",
    "model.fit(X_train, y_train, validation_data=(X_test, y_test), epochs=10, batch_size=200, verbose=2)\n",
    "\n",
    "# evaluate the model\n",
    "scores = model.evaluate(X_test, y_test, verbose=0)\n",
    "print(\"Accuracy: {} \\n Error: {}\".format(scores[1], 100-scores[1]*100))"
   ]
  },
  {
   "cell_type": "markdown",
   "metadata": {},
   "source": [
    "<h3>Practice Exercise 1</h3>\n"
   ]
  },
  {
   "cell_type": "markdown",
   "metadata": {},
   "source": [
    "Let's see how batch size affects the time required and accuracy of the model training. \n",
    "For this, you can try to change batch_size to 1024 and check it's effect on accuracy\n"
   ]
  },
  {
   "cell_type": "code",
   "execution_count": null,
   "metadata": {},
   "outputs": [
    {
     "name": "stdout",
     "output_type": "stream",
     "text": [
      "Epoch 1/10\n",
      "59/59 - 8s - 133ms/step - accuracy: 0.6766 - loss: 1.1952 - val_accuracy: 0.8772 - val_loss: 0.4110\n",
      "Epoch 2/10\n",
      "59/59 - 7s - 123ms/step - accuracy: 0.9027 - loss: 0.3234 - val_accuracy: 0.9288 - val_loss: 0.2357\n",
      "Epoch 3/10\n",
      "59/59 - 7s - 112ms/step - accuracy: 0.9391 - loss: 0.2037 - val_accuracy: 0.9569 - val_loss: 0.1540\n",
      "Epoch 4/10\n",
      "59/59 - 7s - 112ms/step - accuracy: 0.9572 - loss: 0.1433 - val_accuracy: 0.9674 - val_loss: 0.1129\n",
      "Epoch 5/10\n",
      "59/59 - 7s - 116ms/step - accuracy: 0.9658 - loss: 0.1144 - val_accuracy: 0.9713 - val_loss: 0.0938\n",
      "Epoch 6/10\n",
      "59/59 - 7s - 111ms/step - accuracy: 0.9703 - loss: 0.0980 - val_accuracy: 0.9743 - val_loss: 0.0860\n",
      "Epoch 7/10\n",
      "59/59 - 7s - 117ms/step - accuracy: 0.9731 - loss: 0.0882 - val_accuracy: 0.9766 - val_loss: 0.0775\n",
      "Epoch 8/10\n",
      "59/59 - 7s - 111ms/step - accuracy: 0.9764 - loss: 0.0790 - val_accuracy: 0.9787 - val_loss: 0.0696\n",
      "Epoch 9/10\n",
      "59/59 - 7s - 111ms/step - accuracy: 0.9785 - loss: 0.0724 - val_accuracy: 0.9798 - val_loss: 0.0648\n",
      "Epoch 10/10\n",
      "59/59 - 7s - 113ms/step - accuracy: 0.9807 - loss: 0.0661 - val_accuracy: 0.9813 - val_loss: 0.0586\n",
      "Accuracy: 0.9812999963760376 \n",
      " Error: 1.8700003623962402\n"
     ]
    }
   ],
   "source": [
    "# build the model\n",
    "model = convolutional_model()\n",
    "\n",
    "# fit the model\n",
    "model.fit(X_train, y_train, validation_data=(X_test, y_test), epochs=10, batch_size=1024, verbose=2)\n",
    "\n",
    "# evaluate the model\n",
    "scores = model.evaluate(X_test, y_test, verbose=0)\n",
    "print(f\"Accuracy: {scores[1]} \\n Error: {100-scores[1]*100}\")"
   ]
  },
  {
   "cell_type": "markdown",
   "metadata": {},
   "source": [
    "Double-click <b>here</b> for the solution.\n",
    "\n",
    "<!-- Your answer is below:\n",
    "# build the model\n",
    "model = convolutional_model()\n",
    "\n",
    "# fit the model\n",
    "model.fit(X_train, y_train, validation_data=(X_test, y_test), epochs=10, batch_size=1024, verbose=2)\n",
    "\n",
    "# evaluate the model\n",
    "scores = model.evaluate(X_test, y_test, verbose=0)\n",
    "print(\"Accuracy: {} \\n Error: {}\".format(scores[1], 100-scores[1]*100))\n",
    "-->\n"
   ]
  },
  {
   "cell_type": "markdown",
   "metadata": {},
   "source": [
    "<h3>Practice Exercise 2</h3>\n"
   ]
  },
  {
   "cell_type": "markdown",
   "metadata": {},
   "source": [
    "Now, let's see how number of epochs  affect the time required and accuracy of the model training. \n",
    "For this, you can keep the batch_size=1024 and epochs=25 and check it's effect on accuracy\n"
   ]
  },
  {
   "cell_type": "code",
   "execution_count": null,
   "metadata": {},
   "outputs": [
    {
     "name": "stdout",
     "output_type": "stream",
     "text": [
      "Epoch 1/25\n",
      "59/59 - 8s - 136ms/step - accuracy: 0.6835 - loss: 1.2285 - val_accuracy: 0.9156 - val_loss: 0.3029\n",
      "Epoch 2/25\n",
      "59/59 - 7s - 116ms/step - accuracy: 0.9344 - loss: 0.2308 - val_accuracy: 0.9538 - val_loss: 0.1624\n",
      "Epoch 3/25\n",
      "59/59 - 7s - 116ms/step - accuracy: 0.9557 - loss: 0.1513 - val_accuracy: 0.9666 - val_loss: 0.1175\n",
      "Epoch 4/25\n",
      "59/59 - 7s - 115ms/step - accuracy: 0.9653 - loss: 0.1184 - val_accuracy: 0.9711 - val_loss: 0.0954\n",
      "Epoch 5/25\n",
      "59/59 - 7s - 114ms/step - accuracy: 0.9701 - loss: 0.1005 - val_accuracy: 0.9731 - val_loss: 0.0844\n",
      "Epoch 6/25\n",
      "59/59 - 7s - 116ms/step - accuracy: 0.9735 - loss: 0.0886 - val_accuracy: 0.9777 - val_loss: 0.0734\n",
      "Epoch 7/25\n",
      "59/59 - 7s - 114ms/step - accuracy: 0.9764 - loss: 0.0791 - val_accuracy: 0.9785 - val_loss: 0.0690\n",
      "Epoch 8/25\n",
      "59/59 - 7s - 116ms/step - accuracy: 0.9782 - loss: 0.0734 - val_accuracy: 0.9793 - val_loss: 0.0650\n",
      "Epoch 9/25\n",
      "59/59 - 7s - 115ms/step - accuracy: 0.9796 - loss: 0.0683 - val_accuracy: 0.9815 - val_loss: 0.0595\n",
      "Epoch 10/25\n",
      "59/59 - 7s - 115ms/step - accuracy: 0.9807 - loss: 0.0641 - val_accuracy: 0.9817 - val_loss: 0.0573\n",
      "Epoch 11/25\n",
      "59/59 - 7s - 114ms/step - accuracy: 0.9824 - loss: 0.0587 - val_accuracy: 0.9821 - val_loss: 0.0562\n",
      "Epoch 12/25\n",
      "59/59 - 7s - 119ms/step - accuracy: 0.9829 - loss: 0.0567 - val_accuracy: 0.9827 - val_loss: 0.0507\n",
      "Epoch 13/25\n",
      "59/59 - 7s - 115ms/step - accuracy: 0.9844 - loss: 0.0520 - val_accuracy: 0.9829 - val_loss: 0.0507\n",
      "Epoch 14/25\n",
      "59/59 - 7s - 111ms/step - accuracy: 0.9851 - loss: 0.0490 - val_accuracy: 0.9825 - val_loss: 0.0512\n",
      "Epoch 15/25\n",
      "59/59 - 7s - 111ms/step - accuracy: 0.9856 - loss: 0.0477 - val_accuracy: 0.9835 - val_loss: 0.0490\n",
      "Epoch 16/25\n",
      "59/59 - 7s - 111ms/step - accuracy: 0.9865 - loss: 0.0450 - val_accuracy: 0.9846 - val_loss: 0.0466\n",
      "Epoch 17/25\n",
      "59/59 - 7s - 112ms/step - accuracy: 0.9871 - loss: 0.0433 - val_accuracy: 0.9852 - val_loss: 0.0424\n",
      "Epoch 18/25\n",
      "59/59 - 7s - 110ms/step - accuracy: 0.9879 - loss: 0.0406 - val_accuracy: 0.9860 - val_loss: 0.0411\n",
      "Epoch 19/25\n",
      "59/59 - 7s - 111ms/step - accuracy: 0.9882 - loss: 0.0393 - val_accuracy: 0.9852 - val_loss: 0.0434\n",
      "Epoch 20/25\n",
      "59/59 - 7s - 114ms/step - accuracy: 0.9886 - loss: 0.0385 - val_accuracy: 0.9869 - val_loss: 0.0415\n",
      "Epoch 21/25\n",
      "59/59 - 7s - 115ms/step - accuracy: 0.9893 - loss: 0.0360 - val_accuracy: 0.9861 - val_loss: 0.0398\n",
      "Epoch 22/25\n",
      "59/59 - 7s - 120ms/step - accuracy: 0.9894 - loss: 0.0352 - val_accuracy: 0.9876 - val_loss: 0.0374\n",
      "Epoch 23/25\n",
      "59/59 - 7s - 118ms/step - accuracy: 0.9898 - loss: 0.0341 - val_accuracy: 0.9865 - val_loss: 0.0406\n",
      "Epoch 24/25\n",
      "59/59 - 7s - 124ms/step - accuracy: 0.9898 - loss: 0.0326 - val_accuracy: 0.9871 - val_loss: 0.0394\n",
      "Epoch 25/25\n",
      "59/59 - 7s - 121ms/step - accuracy: 0.9901 - loss: 0.0318 - val_accuracy: 0.9872 - val_loss: 0.0387\n",
      "Accuracy: 0.9872000217437744 \n",
      " Error: 1.2799978256225586\n"
     ]
    }
   ],
   "source": [
    "# build the model\n",
    "model = convolutional_model()\n",
    "\n",
    "# fit the model\n",
    "model.fit(X_train, y_train, validation_data=(X_test, y_test), epochs=25, batch_size=1024, verbose=2)\n",
    "\n",
    "# evaluate the model\n",
    "scores = model.evaluate(X_test, y_test, verbose=0)\n",
    "print(f\"Accuracy: {scores[1]} \\n Error: {100-scores[1]*100}\")"
   ]
  },
  {
   "cell_type": "markdown",
   "metadata": {},
   "source": [
    "Double-click <b>here</b> for the solution.\n",
    "\n",
    "<!-- Your answer is below:\n",
    "# build the model\n",
    "model = convolutional_model()\n",
    "\n",
    "# fit the model\n",
    "model.fit(X_train, y_train, validation_data=(X_test, y_test), epochs=25, batch_size=1024, verbose=2)\n",
    "\n",
    "# evaluate the model\n",
    "scores = model.evaluate(X_test, y_test, verbose=0)\n",
    "print(\"Accuracy: {} \\n Error: {}\".format(scores[1], 100-scores[1]*100))\n",
    "\n",
    "\n",
    "    -->\n"
   ]
  },
  {
   "cell_type": "markdown",
   "metadata": {},
   "source": [
    "### Thank you for completing this lab!\n",
    "\n",
    "This notebook was created by [Alex Aklson](https://www.linkedin.com/in/aklson/). I hope you found this lab interesting and educational. Feel free to contact me if you have any questions!\n"
   ]
  },
  {
   "cell_type": "markdown",
   "metadata": {},
   "source": [
    "<!--\n",
    "## Change Log\n",
    "\n",
    "|  Date (YYYY-MM-DD) |  Version | Changed By  |  Change Description |\n",
    "|---|---|---|---|\n",
    "| 2024-11-20  | 3.0  | Aman  |  Updated the library versions to current |\n",
    "| 2020-09-21  | 2.0  | Srishti  |  Migrated Lab to Markdown and added to course repo in GitLab |\n",
    "\n",
    "\n",
    "\n",
    "<hr>\n",
    "\n",
    "## <h3 align=\"center\"> © IBM Corporation. All rights reserved. <h3/>\n"
   ]
  },
  {
   "cell_type": "markdown",
   "metadata": {},
   "source": [
    "## <h3 align=\"center\"> &#169; IBM Corporation. All rights reserved. <h3/>\n",
    "\n"
   ]
  }
 ],
 "metadata": {
  "kernelspec": {
   "display_name": ".venv",
   "language": "python",
   "name": "python3"
  },
  "language_info": {
   "codemirror_mode": {
    "name": "ipython",
    "version": 3
   },
   "file_extension": ".py",
   "mimetype": "text/x-python",
   "name": "python",
   "nbconvert_exporter": "python",
   "pygments_lexer": "ipython3",
   "version": "3.12.10"
  },
  "prev_pub_hash": "cf25684b5f40b85f8cce20a89cf822f405779387881f3fd281fbe1317debe407"
 },
 "nbformat": 4,
 "nbformat_minor": 4
}
